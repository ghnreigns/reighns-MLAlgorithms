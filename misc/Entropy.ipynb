{
 "cells": [
  {
   "cell_type": "markdown",
   "id": "7b776c95",
   "metadata": {},
   "source": [
    "Intuitively, if we are predicting an image of a cat vs dog, and we pass in a query image $x_{q}$ of pixels, we expect the $y_{q}$ to take on class 0 or 1. However, taking a step back, in ML setting, we often have a calibrated probability $y_{q}$ before the classifier tells us whether it is a 0 or 1 based on a decision (say if probability more than 0.5, then its 1, and 0 otherwwise). This probability is a soft label and in our scenario, should output an array \n",
    "\n",
    "```python\n",
    "y_q = [probability of x_q being a cat 0, probability of x_q being a dog 1] = [0.5, 0.5]\n",
    "```\n",
    "\n",
    "In this case, we can say that our prediction $Y$ is a DISCRETE random variable with probability distribution $p$, and thus the entropy of $Y$ can be formally defined as:\n",
    "\n",
    "$$\\mathrm{H}(Y)= -\\sum _{i=1}^{n}{\\mathrm{P}(y_{i})\\log \\mathrm{P}(y_{i})}$$\n",
    "\n",
    "where we are summing over all values that $Y$ took on.\n",
    "\n",
    "In this case, it is \n",
    "\n",
    "```python\n",
    "entropy of y_q = -( 0.5 * lg 0.5 + 0.5 * lg 0.5 ) = -(-0.5 + -0.5) = 1\n",
    "```\n",
    "\n",
    "Note we are using lg base 2 here and so our maximum entropy is 1."
   ]
  },
  {
   "cell_type": "markdown",
   "id": "2e3d29c6",
   "metadata": {},
   "source": [
    "- Entropy is maximum if each random variable is equi-probable.\n",
    "- Entropy Loss is usually used as a loss function in ML as it penalizes \"wrong predictions\" and favours confident predictions."
   ]
  },
  {
   "cell_type": "markdown",
   "id": "1eb157bc",
   "metadata": {},
   "source": [
    "In the image below, let's say $y$ is a random variable taking on a uniform distribution, for example, if we are predicting a cat or dog image, where $y$ is the probability output from a classifier, taking on 0 to 1. If we were to assume $y \\sim U[0,1]$, then it follows that $H(y) = 1$ as $y$ will always be of $[0.5, 0.5]$ in prediction.\n",
    "\n",
    "Let us now see two different cases if $y$ follows a gaussian distribution, $y_{1} \\sim \\mathcal{N_1}[0,1]$ and $y_{2} \\sim \\mathcal{N_2}[0,1]$\n",
    "\n",
    "Visually, we can see that the second gaussian has a higher peak than the first, hence we can deduce that $H(y_{2}) < H(y_{1})$ because since the higher peak suggest that the points of $y_{2}$ are tightly spread around each other, and since the points are close, there is less penalty in the $\\log$. Even more geometrically, if we take \"uniform distribution\" as the one with highest entropy, we can say that as the gaussian curve smoothes out -> becoming more uniform, then the entropy rises.\n",
    "\n",
    "![title](entropy_distribution.png)"
   ]
  },
  {
   "cell_type": "markdown",
   "id": "10dad108",
   "metadata": {},
   "source": [
    "- [machinelearningmastery-information-entropy](https://machinelearningmastery.com/what-is-information-entropy/)\n",
    "- [scipy-entropy](https://docs.scipy.org/doc/scipy/reference/generated/scipy.stats.entropy.html)"
   ]
  },
  {
   "cell_type": "code",
   "execution_count": 5,
   "id": "2861ae5b",
   "metadata": {},
   "outputs": [],
   "source": [
    "from scipy.stats import entropy\n",
    "from math import log2\n",
    "\n",
    "\n",
    "def _entropy(y):\n",
    "    \"\"\"\n",
    "    raw for loops without vectorization\n",
    "    y: array of probabilities\n",
    "    \"\"\"\n",
    "    \n",
    "    num_samples = len(y) # no. of samples\n",
    "    \n",
    "    _entropy = 0\n",
    "    \n",
    "    for _y in y:\n",
    "        \n",
    "        _entropy += _y * log2(_y)\n",
    "            \n",
    "    _entropy = -1 * _entropy\n",
    "    \n",
    "    return _entropy\n",
    "        \n",
    "        \n",
    "        \n",
    "#TODO: VECTORIZE  "
   ]
  },
  {
   "cell_type": "code",
   "execution_count": 4,
   "id": "2b5e1066",
   "metadata": {},
   "outputs": [
    {
     "data": {
      "text/plain": [
       "-1.0"
      ]
     },
     "execution_count": 4,
     "metadata": {},
     "output_type": "execute_result"
    }
   ],
   "source": [
    "entropy([1/2, 1/2], base=2)\n",
    "_entropy([1/2, 1/2])\n"
   ]
  },
  {
   "cell_type": "code",
   "execution_count": 7,
   "id": "c72a4e0d",
   "metadata": {},
   "outputs": [
    {
     "data": {
      "image/png": "[encoded data removed]",
      "text/plain": [
       "<Figure size 432x288 with 1 Axes>"
      ]
     },
     "metadata": {
      "needs_background": "light"
     },
     "output_type": "display_data"
    }
   ],
   "source": [
    "# Reference to machine learning mastery\n",
    "# compare probability distributions vs entropy\n",
    "from math import log2\n",
    "from matplotlib import pyplot\n",
    " \n",
    "# calculate entropy\n",
    "def entropy(events, ets=1e-15):\n",
    "\treturn -sum([p * log2(p + ets) for p in events])\n",
    " \n",
    "# define probabilities\n",
    "probs = [0.0, 0.1, 0.2, 0.3, 0.4, 0.5]\n",
    "# create probability distribution\n",
    "dists = [[p, 1.0 - p] for p in probs]\n",
    "# calculate entropy for each distribution\n",
    "ents = [entropy(d) for d in dists]\n",
    "# plot probability distribution vs entropy\n",
    "pyplot.plot(probs, ents, marker='.')\n",
    "pyplot.title('Probability Distribution vs Entropy')\n",
    "pyplot.xticks(probs, [str(d) for d in dists])\n",
    "pyplot.xlabel('Probability Distribution')\n",
    "pyplot.ylabel('Entropy (bits)')\n",
    "pyplot.show()\n"
   ]
  }
 ],
 "metadata": {
  "kernelspec": {
   "display_name": "Python 3 (ipykernel)",
   "language": "python",
   "name": "python3"
  },
  "language_info": {
   "codemirror_mode": {
    "name": "ipython",
    "version": 3
   },
   "file_extension": ".py",
   "mimetype": "text/x-python",
   "name": "python",
   "nbconvert_exporter": "python",
   "pygments_lexer": "ipython3",
   "version": "3.8.10"
  },
  "toc": {
   "base_numbering": 1,
   "nav_menu": {},
   "number_sections": true,
   "sideBar": true,
   "skip_h1_title": false,
   "title_cell": "Table of Contents",
   "title_sidebar": "Contents",
   "toc_cell": false,
   "toc_position": {},
   "toc_section_display": true,
   "toc_window_display": false
  }
 },
 "nbformat": 4,
 "nbformat_minor": 5
}
