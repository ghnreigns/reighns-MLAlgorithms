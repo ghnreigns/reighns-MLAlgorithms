{
 "cells": [
  {
   "cell_type": "markdown",
   "id": "1da17777",
   "metadata": {},
   "source": [
    "<h1>Table of Contents<span class=\"tocSkip\"></span></h1>\n",
    "<div class=\"toc\"><ul class=\"toc-item\"><li><span><a href=\"#Intuition\" data-toc-modified-id=\"Intuition-1\"><span class=\"toc-item-num\">1&nbsp;&nbsp;</span>Intuition</a></span></li><li><span><a href=\"#Notations-and-Definitions\" data-toc-modified-id=\"Notations-and-Definitions-2\"><span class=\"toc-item-num\">2&nbsp;&nbsp;</span>Notations and Definitions</a></span></li><li><span><a href=\"#Assumptions\" data-toc-modified-id=\"Assumptions-3\"><span class=\"toc-item-num\">3&nbsp;&nbsp;</span>Assumptions</a></span><ul class=\"toc-item\"><li><span><a href=\"#Normalization\" data-toc-modified-id=\"Normalization-3.1\"><span class=\"toc-item-num\">3.1&nbsp;&nbsp;</span>Normalization</a></span></li></ul></li><li><span><a href=\"#Hypothesis-Space-and-the-Learning-Algorithm\" data-toc-modified-id=\"Hypothesis-Space-and-the-Learning-Algorithm-4\"><span class=\"toc-item-num\">4&nbsp;&nbsp;</span>Hypothesis Space and the Learning Algorithm</a></span></li><li><span><a href=\"#K-Nearest-Neighbours-Algorithm\" data-toc-modified-id=\"K-Nearest-Neighbours-Algorithm-5\"><span class=\"toc-item-num\">5&nbsp;&nbsp;</span>K-Nearest-Neighbours Algorithm</a></span><ul class=\"toc-item\"><li><span><a href=\"#Classification\" data-toc-modified-id=\"Classification-5.1\"><span class=\"toc-item-num\">5.1&nbsp;&nbsp;</span>Classification</a></span><ul class=\"toc-item\"><li><span><a href=\"#Majority-Voting-Class-Label\" data-toc-modified-id=\"Majority-Voting-Class-Label-5.1.1\"><span class=\"toc-item-num\">5.1.1&nbsp;&nbsp;</span>Majority Voting Class Label</a></span></li><li><span><a href=\"#Probabilistic-Class-Label\" data-toc-modified-id=\"Probabilistic-Class-Label-5.1.2\"><span class=\"toc-item-num\">5.1.2&nbsp;&nbsp;</span>Probabilistic Class Label</a></span></li></ul></li><li><span><a href=\"#Regression\" data-toc-modified-id=\"Regression-5.2\"><span class=\"toc-item-num\">5.2&nbsp;&nbsp;</span>Regression</a></span><ul class=\"toc-item\"><li><span><a href=\"#Majority-Mean-Class-Label\" data-toc-modified-id=\"Majority-Mean-Class-Label-5.2.1\"><span class=\"toc-item-num\">5.2.1&nbsp;&nbsp;</span>Majority Mean Class Label</a></span></li></ul></li><li><span><a href=\"#Additional-Implementations\" data-toc-modified-id=\"Additional-Implementations-5.3\"><span class=\"toc-item-num\">5.3&nbsp;&nbsp;</span>Additional Implementations</a></span><ul class=\"toc-item\"><li><span><a href=\"#KD-Tree\" data-toc-modified-id=\"KD-Tree-5.3.1\"><span class=\"toc-item-num\">5.3.1&nbsp;&nbsp;</span>KD-Tree</a></span></li></ul></li></ul></li><li><span><a href=\"#Time-and-Space-Complexity\" data-toc-modified-id=\"Time-and-Space-Complexity-6\"><span class=\"toc-item-num\">6&nbsp;&nbsp;</span>Time and Space Complexity</a></span><ul class=\"toc-item\"><li><span><a href=\"#Naive-KNN-(see-knn_naive.py)\" data-toc-modified-id=\"Naive-KNN-(see-knn_naive.py)-6.1\"><span class=\"toc-item-num\">6.1&nbsp;&nbsp;</span>Naive KNN (see knn_naive.py)</a></span><ul class=\"toc-item\"><li><span><a href=\"#Time-Complexity\" data-toc-modified-id=\"Time-Complexity-6.1.1\"><span class=\"toc-item-num\">6.1.1&nbsp;&nbsp;</span>Time Complexity</a></span></li><li><span><a href=\"#Space-Complexity\" data-toc-modified-id=\"Space-Complexity-6.1.2\"><span class=\"toc-item-num\">6.1.2&nbsp;&nbsp;</span>Space Complexity</a></span></li></ul></li><li><span><a href=\"#Quickselect-KNN-(see-knn_quick_select.py)\" data-toc-modified-id=\"Quickselect-KNN-(see-knn_quick_select.py)-6.2\"><span class=\"toc-item-num\">6.2&nbsp;&nbsp;</span>Quickselect KNN (see knn_quick_select.py)</a></span></li><li><span><a href=\"#Binary-Search-Tree-KNN-(see-knn_bst.py)\" data-toc-modified-id=\"Binary-Search-Tree-KNN-(see-knn_bst.py)-6.3\"><span class=\"toc-item-num\">6.3&nbsp;&nbsp;</span>Binary Search Tree KNN (see knn_bst.py)</a></span></li></ul></li><li><span><a href=\"#Decision-Boundary\" data-toc-modified-id=\"Decision-Boundary-7\"><span class=\"toc-item-num\">7&nbsp;&nbsp;</span>Decision Boundary</a></span><ul class=\"toc-item\"><li><span><a href=\"#Voronoi-Diagram\" data-toc-modified-id=\"Voronoi-Diagram-7.1\"><span class=\"toc-item-num\">7.1&nbsp;&nbsp;</span>Voronoi Diagram</a></span></li></ul></li><li><span><a href=\"#Choose-K\" data-toc-modified-id=\"Choose-K-8\"><span class=\"toc-item-num\">8&nbsp;&nbsp;</span>Choose K</a></span><ul class=\"toc-item\"><li><span><a href=\"#K-=-1\" data-toc-modified-id=\"K-=-1-8.1\"><span class=\"toc-item-num\">8.1&nbsp;&nbsp;</span>K = 1</a></span></li><li><span><a href=\"#K-=-m\" data-toc-modified-id=\"K-=-m-8.2\"><span class=\"toc-item-num\">8.2&nbsp;&nbsp;</span>K = m</a></span></li><li><span><a href=\"#K's-impact-on-Bias-and-Variance\" data-toc-modified-id=\"K's-impact-on-Bias-and-Variance-8.3\"><span class=\"toc-item-num\">8.3&nbsp;&nbsp;</span>K's impact on Bias and Variance</a></span><ul class=\"toc-item\"><li><span><a href=\"#Small-K\" data-toc-modified-id=\"Small-K-8.3.1\"><span class=\"toc-item-num\">8.3.1&nbsp;&nbsp;</span>Small K</a></span></li><li><span><a href=\"#Big-K\" data-toc-modified-id=\"Big-K-8.3.2\"><span class=\"toc-item-num\">8.3.2&nbsp;&nbsp;</span>Big K</a></span></li></ul></li><li><span><a href=\"#How-to-determine-K?\" data-toc-modified-id=\"How-to-determine-K?-8.4\"><span class=\"toc-item-num\">8.4&nbsp;&nbsp;</span>How to determine K?</a></span></li></ul></li><li><span><a href=\"#Weighted-KNN\" data-toc-modified-id=\"Weighted-KNN-9\"><span class=\"toc-item-num\">9&nbsp;&nbsp;</span>Weighted KNN</a></span><ul class=\"toc-item\"><li><span><a href=\"#Uniform\" data-toc-modified-id=\"Uniform-9.1\"><span class=\"toc-item-num\">9.1&nbsp;&nbsp;</span>Uniform</a></span></li><li><span><a href=\"#Weighted-(inverse)\" data-toc-modified-id=\"Weighted-(inverse)-9.2\"><span class=\"toc-item-num\">9.2&nbsp;&nbsp;</span>Weighted (inverse)</a></span></li></ul></li><li><span><a href=\"#Summary\" data-toc-modified-id=\"Summary-10\"><span class=\"toc-item-num\">10&nbsp;&nbsp;</span>Summary</a></span><ul class=\"toc-item\"><li><span><a href=\"#Active-Recall\" data-toc-modified-id=\"Active-Recall-10.1\"><span class=\"toc-item-num\">10.1&nbsp;&nbsp;</span>Active Recall</a></span></li></ul></li></ul></div>"
   ]
  },
  {
   "cell_type": "markdown",
   "id": "81488623",
   "metadata": {},
   "source": [
    "# Intuition\n",
    "\n",
    "Nested `if-else`.\n",
    "\n",
    "## Geometric Intuition\n",
    "\n"
   ]
  },
  {
   "cell_type": "markdown",
   "id": "06e22bca",
   "metadata": {},
   "source": [
    "- root node: First note in a tree.\n",
    "- internal node: Non root and non leaf node, this is where we make decisions.\n",
    "- leaf/terminal note (leaf): End of the node where no decisions are made but points to a class label. \n",
    "\n"
   ]
  },
  {
   "cell_type": "markdown",
   "id": "3adc782f",
   "metadata": {},
   "source": [
    "Instance Based Method (Like Heuristic)\n",
    "Probabilistic Method\n",
    "\n",
    "Geometric Hyperplane"
   ]
  }
 ],
 "metadata": {
  "kernelspec": {
   "display_name": "Python 3 (ipykernel)",
   "language": "python",
   "name": "python3"
  },
  "language_info": {
   "codemirror_mode": {
    "name": "ipython",
    "version": 3
   },
   "file_extension": ".py",
   "mimetype": "text/x-python",
   "name": "python",
   "nbconvert_exporter": "python",
   "pygments_lexer": "ipython3",
   "version": "3.8.10"
  },
  "toc": {
   "base_numbering": 1,
   "nav_menu": {},
   "number_sections": true,
   "sideBar": true,
   "skip_h1_title": false,
   "title_cell": "Table of Contents",
   "title_sidebar": "Contents",
   "toc_cell": false,
   "toc_position": {
    "height": "calc(100% - 180px)",
    "left": "10px",
    "top": "150px",
    "width": "384px"
   },
   "toc_section_display": true,
   "toc_window_display": true
  }
 },
 "nbformat": 4,
 "nbformat_minor": 5
}
