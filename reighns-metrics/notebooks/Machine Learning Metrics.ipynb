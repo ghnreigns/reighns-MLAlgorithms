{
 "cells": [
  {
   "cell_type": "markdown",
   "metadata": {},
   "source": [
    "# Introduction\n",
    "\n",
    "**This is an ongoing notebook, attempting to describe (almost) all Machine Learning Metrics in details, with examples to illustrate. I will refer to [scikit-learn's official website](https://scikit-learn.org/) for reference, and quote the explanation verbatim, if necessary. This is also because they do provide a very detailed user-guide, but I believe not everyone has the time to go through all their examples, so let's leave this task for me to summarize them.** \n",
    "\n",
    "**We will start from basic metrics like `Accuracy`, `confusion-matrix` etc. We will also cover flaws of some metrics (ahem `Accuracy`), along with the pros.**\n",
    "\n",
    "**A reminder: This is a work in progress, please do expect changes here and there as time goes by, and improvements on the code/text quality will improve.**\n",
    "\n",
    "---\n",
    "\n",
    "<div class=\"alert alert-block alert-danger\">\n",
    "<b>Danger:</b> The implementation below are quite raw, which means they are not modularized on purpose. Often I took complicated `numpy` operations for granted, and when probed further on my understanding of a certain algorithm, I cannot answer in details because many details are abstracted in the `numpy` calls.\n",
    "</div>"
   ]
  },
  {
   "cell_type": "code",
   "execution_count": 1,
   "metadata": {
    "ExecuteTime": {
     "end_time": "2020-04-22T04:38:04.461975Z",
     "start_time": "2020-04-22T04:38:04.456987Z"
    }
   },
   "outputs": [],
   "source": [
    "import numpy as np\n",
    "import pandas as pd\n",
    "from sklearn.metrics import confusion_matrix\n",
    "from sklearn.metrics import cohen_kappa_score, make_scorer\n",
    "import itertools\n",
    "import sklearn\n",
    "import seaborn as sns\n",
    "import matplotlib.pyplot as plt\n",
    "import random\n",
    "\n",
    "from IPython.core.interactiveshell import InteractiveShell\n",
    "InteractiveShell.ast_node_interactivity = \"all\""
   ]
  },
  {
   "cell_type": "markdown",
   "metadata": {},
   "source": [
    "# Performance Metrics and Scoring\n",
    "\n",
    "In almost all of Kaggle's competitions, the evaluation metric is given to us. However, in reality, when we are solving real world problems in our company, we have to come up with the performance metric ourselves. \n",
    "\n",
    "Consider a training set, consisting of 1000 patients, in which we want to correctly classify these patients into whether they have cancer (positive class = 1) or no cancer (negative class = 0) based on some independent variables. Since it is a training set, we have the ground truth data and knows that only $\\dfrac{50}{1000}$ of the patients have cancer. We can then come up with a trivial classifier that says:\"Classify any patients as no cancer (0)\" and this trivial classifier will actually yield you $\\dfrac{950}{1000} = 95\\%$ accuracy. Does it really mean our trivial classifier is good just because it has an accuracy rate of $95\\%$? We shall see.\n"
   ]
  },
  {
   "cell_type": "markdown",
   "metadata": {},
   "source": [
    "# **Metrics for Binary Classification**\n",
    "\n",
    "We will first start off with understanding metrics in the Binary Classification setting, more specifically, our classifier/hypothesis/model $h$, takes in an input $X$ that details the features of a tumour, and subsequently outputs first a calibrated soft label (probability), and we use a decision threshold to classify this soft label into a hard label which in this binary setting, is either $0$ (benign) or $1$ (malignant). The above example resonates more to competitions like image classification to detect malignant tumours from images/scans.\n",
    "\n",
    "---\n",
    "\n",
    "Note that we take the positive class as $1$, which is malignant, and negative class as $0$, benign."
   ]
  },
  {
   "cell_type": "markdown",
   "metadata": {},
   "source": [
    "## Confusion Matrix\n",
    "\n",
    "### Definition\n",
    "\n",
    "<div class=\"alert alert-block alert-success\">\n",
    "<b>Definition:</b> In binary classification (can be extended to multi class), a table of confusion (sometimes also called a confusion matrix), is a table with two rows and two columns that reports the number of false positives, false negatives, true positives, and true negatives. This allows more detailed analysis than mere proportion of correct classifications `Accuracy metric`. Accuracy is not a reliable metric for the real performance of a classifier, because it will yield misleading results if the data set is imbalanced (that is, when the numbers of observations in different classes vary greatly).\n",
    "</div>\n",
    "\n",
    "---\n",
    "\n",
    "A confusion matrix is an $N \\times N$ matrix, where $N$ is the number of classes being predicted. Confusion Matrix gives us a matrix as output and describes the complete performance of the model. In a Binary setting, $N = 2$, so the confusion matrix is $2 \\times 2$.\n",
    "\n",
    "The correct predictions falls on the diagonal line of the matrix.\n",
    "\n",
    "4 important terms in Confusion Matrix:\n",
    "\n",
    "- True Positives : The cases in which we predicted YES/POSITIVE and the actual output was also YES/POSITIVE.\n",
    "- True Negatives : The cases in which we predicted NO/NEGATIVE and the actual output was NO/NEGATIVE.\n",
    "- False Positives : The cases in which we predicted YES/POSITIVE and the actual output was NO/NEGATIVE.\n",
    "- False Negatives : The cases in which we predicted NO/NEGATIVE and the actual output was YES/POSITIVE.\n",
    "\n",
    "---\n",
    "\n",
    "If not mentioned otherwise, we will be talking about univariate and single predictions.\n",
    "\n",
    "<img src='../data/images/Basic-Confusion-matrix.webp' width=\"200\" height=\"200\"/>"
   ]
  },
  {
   "cell_type": "markdown",
   "metadata": {},
   "source": [
    "### True Positive (TP)\n",
    "\n",
    "<div class=\"alert alert-block alert-success\">\n",
    "<b>Definition:</b> The ground truth is positive label and the predicted value from the classifier is also positive label.\n",
    "</div>\n"
   ]
  },
  {
   "cell_type": "markdown",
   "metadata": {},
   "source": [
    "### True Negative (TN)\n",
    "\n",
    "<div class=\"alert alert-block alert-success\">\n",
    "<b>Definition:</b> The ground truth is negative label and the predicted value from the classifier is also negative label.\n",
    "</div>"
   ]
  },
  {
   "cell_type": "markdown",
   "metadata": {},
   "source": [
    "### False Positive (FP)\n",
    "\n",
    "<div class=\"alert alert-block alert-success\">\n",
    "<b>Definition:</b> The ground truth is negative label and the predicted value from the classifier is positive label.\n",
    "</div>\n",
    "\n",
    "<div class=\"alert alert-block alert-info\">\n",
    "<b>Info:</b> This is also called the Type 1 Error.</div>\n"
   ]
  },
  {
   "cell_type": "markdown",
   "metadata": {},
   "source": [
    "### False Negative (FN)\n",
    "\n",
    "<div class=\"alert alert-block alert-success\">\n",
    "<b>Definition:</b> The ground truth is positive label and the predicted value from the classifier is negative label.\n",
    "</div>\n",
    "\n",
    "<div class=\"alert alert-block alert-info\">\n",
    "<b>Info:</b> This is also called the Type 2 Error.</div>\n"
   ]
  },
  {
   "cell_type": "markdown",
   "metadata": {},
   "source": [
    "### When to use Confusion Matrix?\n",
    "\n",
    "You use it everywhere. The Confusion matrix in itself is not a performance measure, but the information that it carries is so valuable that almost all the other classification metrics will need to refer to the confusion matrix."
   ]
  },
  {
   "cell_type": "markdown",
   "metadata": {},
   "source": [
    "### Implementation of Confusion Matrix"
   ]
  },
  {
   "cell_type": "code",
   "execution_count": 13,
   "metadata": {},
   "outputs": [
    {
     "name": "stdout",
     "output_type": "stream",
     "text": [
      "Outcome values : \n",
      " 2 1 1 2\n"
     ]
    }
   ],
   "source": [
    "y_true = np.array([1,1,0,1,0,0])\n",
    "y_pred = np.array([1,1,1,0,0,0])\n",
    "\n",
    "def reighns_confusion_matrix(y_true, y_pred):\n",
    "    tp, tn, fp, fn = 0, 0, 0, 0\n",
    "    \n",
    "    for y_t, y_p in zip(y_true, y_pred):\n",
    "        # if actual and predicted both are positive class\n",
    "        if y_t == y_p == 1:\n",
    "            tp += 1\n",
    "        # if actual and predicted both are negative class\n",
    "        elif y_t == y_p == 0:\n",
    "            tn += 1\n",
    "        # if actual is negative and predicted is positive\n",
    "        elif y_t == 0 and y_p == 1:\n",
    "            fp += 1\n",
    "        # if actual is positive and predicted is negative\n",
    "        elif y_t == 1 and y_p == 0:\n",
    "            fn +=1\n",
    "    \n",
    "    return tp, fp, tn, fn\n",
    "\n",
    "tp, fp, tn, fn = reighns_confusion_matrix(y_true, y_pred)\n",
    "\n",
    "print('Outcome values : \\n', tp, fn, fp, tn)"
   ]
  },
  {
   "cell_type": "markdown",
   "metadata": {},
   "source": [
    "We can check against `sklearn`."
   ]
  },
  {
   "cell_type": "code",
   "execution_count": 14,
   "metadata": {},
   "outputs": [
    {
     "name": "stdout",
     "output_type": "stream",
     "text": [
      "Confusion matrix : \n",
      " [[2 1]\n",
      " [1 2]]\n",
      "Outcome values : \n",
      " 2 1 1 2\n"
     ]
    }
   ],
   "source": [
    "# confusion matrix in sklearn\n",
    "from sklearn.metrics import confusion_matrix\n",
    "\n",
    "# confusion matrix, set positive class to be positive 1\n",
    "matrix = confusion_matrix(y_true, y_pred, labels=[1,0])\n",
    "print('Confusion matrix : \\n',matrix)\n",
    "\n",
    "# outcome values order in sklearn\n",
    "tp, fn, fp, tn = confusion_matrix(y_true, y_pred,labels=[1,0]).reshape(-1)\n",
    "print('Outcome values : \\n', tp, fn, fp, tn)"
   ]
  },
  {
   "cell_type": "markdown",
   "metadata": {},
   "source": [
    "## **Accuracy**"
   ]
  },
  {
   "cell_type": "markdown",
   "metadata": {},
   "source": [
    "### Definition\n",
    "\n",
    "<div class=\"alert alert-block alert-success\">\n",
    "<b>Definition:</b> Formally, if $\\hat{y}^{(i)}$ is the predicted value of the i-th sample and the ground truth is $y^{(i)}$, then accuracy can be defined as the fraction of predictions that our classifier/hypothesis/model predicted correctly, over the total number of samples in question.\n",
    "</div>\n",
    "\n",
    "$$\\text{accuracy}(\\hat{y}^{(i)}, y^{(i)}) = \\dfrac{1}{\\text{num_samples}}\\sum_{i=1}^{\\text{num_samples}}\\mathrm{1}(y^{(i)} = \\hat{y}^{(i)}) = \\dfrac{\\text{Number of correctly classified cases}}{\\text{Number for all cases}}$$\n",
    "\n",
    "where $\\mathrm{1}(x)$ is the [indicator function](https://en.wikipedia.org/wiki/Indicator_function).\n",
    "\n",
    "---\n",
    "\n",
    "In the Binary setting, we can also write the formula as such: $$\\text{Accuracy} = \\dfrac{TP+TN}{TP+TN+FP+FN}$$\n"
   ]
  },
  {
   "cell_type": "markdown",
   "metadata": {
    "tags": []
   },
   "source": [
    "### When to use Accuracy as a metric\n",
    "\n",
    "Classes are well balanced: Accuracy is a valid choice of evaluation for classification problems which are well balanced and not skewed or no class imbalance. Typically, one should plot EDA and see the classes - if they are roughly equal, then `accuracy` can be used.\n",
    "\n",
    "\n",
    "### When NOT to use Accuracy as a metric\n",
    "\n",
    "<div class=\"alert alert-block alert-danger\">\n",
    "<b>Danger:</b> \n",
    "<li> Classes are *severely* imbalanced.\n",
    "<li> In general, `accuracy` is a very basic metric, and may not tell you any more information that fits your business needs. However, understanding this easiest metric first is crucial to facilitate the next few sections. You almost never ever use `accuracy` as a single metric, see 2.5 for intuition.\n",
    "</div>\n",
    "\n",
    "---\n",
    "\n",
    "<div class=\"alert alert-block alert-warning\">\n",
    "<b>Example:</b> Consider an imbalanced set, where the training data set has 100 patients (data points), and the ground truth is 90 patients are of class = 0, which means that these patients do not have cancer, whereas the remaining 10 patients are in class 1, where they do have cancer. This is an example of class imbalance where the ratio of class 1 to class 0 is $1:9$.\n",
    "</div>   \n",
    "    \n",
    "Consider **a baseline (almost trivial) classifier**:\n",
    "\n",
    "```python\n",
    "def baselineModel(patient_data):\n",
    "        training...\n",
    "    return benign\n",
    "```\n",
    "        \n",
    "\n",
    "where we predict the patient's class as the most frequent class. Meaning, the most frequent class in this question is the class = 0, where patients do not have cancer, so we just assign this class to everyone in this set. By doing this, we will inevitably achieve a **in-sample** accuracy rate of $\\frac{90}{100} = 90\\%$. But unfortunately, this supposedly high accuracy value is completely useless, because this classifier did not label any of the cancer patients correctly.\n",
    "\n",
    "The consequence can be serious, assuming the test set has the same distribution as our training set, where if we have a test set of 1000 patients, there are 900 negative and 100 positive. Our model just literally predict every one of them as benign, yielding a $90\\%$ **out-of-sample** accuracy.\n",
    "\n",
    "What did we conclude? Well, for one, our `accuracy` can be 90% high and looks good to the laymen, but it failed to predict the most important class of people - yes, misclassifying true cancer patients as healthy people is an **SERIOUS OFFENCE**. \n",
    "\n",
    "Also, intuitively speaking, most models (without regularization), ***will not be robust to*** imbalanced dataset. This means that if you were given a training set that is highly imbalanced, then your \"logistic regression\" might give you an overly confident accuracy score on you validation set (if the validation set is also imbalanced)."
   ]
  },
  {
   "cell_type": "markdown",
   "metadata": {},
   "source": [
    "### Implementation of Accuracy"
   ]
  },
  {
   "cell_type": "code",
   "execution_count": 15,
   "metadata": {},
   "outputs": [
    {
     "name": "stdout",
     "output_type": "stream",
     "text": [
      "hn accuracy: 0.6666666666666666\n",
      "sklearn accuracy: 0.6666666666666666\n"
     ]
    }
   ],
   "source": [
    "y_true = np.array([1,1,0,1,0,0])\n",
    "y_pred = np.array([1,1,1,0,0,0])\n",
    "\n",
    "accuracy_count = 0 # numerator\n",
    "num_samples = len(y_true) # denominator\n",
    "\n",
    "for y_t, y_p in zip(y_true, y_pred):\n",
    "    if y_t == y_p:\n",
    "        accuracy_count += 1\n",
    "\n",
    "reighns_accuracy = accuracy_count / num_samples\n",
    "\n",
    "print(f\"hn accuracy: {reighns_accuracy}\")\n",
    "\n",
    "from sklearn.metrics import accuracy_score\n",
    "\n",
    "print(f\"sklearn accuracy: {accuracy_score(y_true, y_pred, normalize=True)}\")"
   ]
  },
  {
   "cell_type": "markdown",
   "metadata": {},
   "source": [
    "## **Precision**"
   ]
  },
  {
   "cell_type": "markdown",
   "metadata": {},
   "source": [
    "### Definition\n",
    "\n",
    "<div class=\"alert alert-block alert-success\">\n",
    "<b>Definition:</b> Precision measures how many of the samples predicted as positive are actually positive.\n",
    "</div>\n",
    "\n",
    "$$\\text{Precision} = \\dfrac{\\text{TP}}{\\text{TP} + \\text{FP}}$$\n",
    "\n",
    "---\n",
    "\n",
    "Informally, precision answers the question **what proportion of positive predictions was actually correct**? In other words, out of all the positive predictions made by the model, how many of those positive predictions were actually positive when compared to the ground truth?\n",
    "\n",
    "---\n",
    "\n",
    "When I learned this back then, it is not immediately obvious what the denominator is doing. Dissecting the formula helps. From the formula, one can understand that TP is **good**, but FP is **bad**. The dynamics is that as TP and FP are inversely related. Assuming a fixed threshold, the denominator is fixed as follows:\n",
    "\n",
    "$$\\text{Predicted Number of Positives} = \\text{TP} + \\text{FP}$$    \n",
    "\n",
    "Thus minimizing FP is equivalent to maximizing TP, and both will lead to an increase in precision."
   ]
  },
  {
   "cell_type": "markdown",
   "metadata": {},
   "source": [
    "### When to use Precision?\n",
    "\n",
    "- When your company needs you to ***restrict the number of False Positives***.\n",
    "\n",
    "- The formula is also suggesting that we are ignoring about False Negatives rates here, so your company does not care about FN.\n",
    "\n",
    "- In other words, as we will see later, there is a trade off between precision and recall, and restricting the number of FP ***may*** give rise to the increase in FN. So ultimately, bear in mind that it is not simply a matter of ***restricting the number of False Positives*** but a matter of ***in your business setting, whether achieving less FP is more important than achieving a less FN***.\n",
    "\n",
    "- In general, precision - recall curve, as we will see later, gives a better overview of 'accuracy' than `accuracy score`.\n",
    "\n",
    "### When NOT to use Precision?\n",
    "\n",
    "<div class=\"alert alert-block alert-danger\">\n",
    "<b>Danger:</b> \n",
    "<li> When you prioritize recall/sensitivity more than precision for your business needs.\n",
    "<li> You almost never ever use `precision` as a single metric, see 2.5 for intuition.\n",
    "</div>\n",
    "\n",
    "\n",
    "\n",
    "<div class=\"alert alert-block alert-warning\">\n",
    "<b>Example:</b> Consider a pharmaceutical company named *Preggie* in China that has developed a new testing kit to detect pregnancy. The company tested its kits on 10,000 ladies in the Wuhan city - these 10,000 ladies are our training samples. There are two outcomes/classes, \n",
    "<li> positive class = pregnant\n",
    "<li> negative class = not pregnant\n",
    "\n",
    "This clinical trial involving 10,000 ladies involves a random sampling (and we assume the classes are quite balanced). The Data Scientists in Preggie needs to come up with a binary classification model that predicts the \"accuracy\" of their testing kit. Of course, the data scientists in Preggie are smart, they evaluate their classifier/model not by their `accuracy` but by their `precision` instead. \n",
    "\n",
    "This is because they want to minimize their False Positives in their classifier. From the company's perspective, they want their testing kit to **correctly identify as much positive pregnancy cases as possible**. If their testing kit has a lot of False Positives, it will drive many of their customers to make the wrong decision - like quickly getting married and buying houses. The company care less about False Negatives because you will eventually find out that you are pregnant even if the initial testing kit shows otherwise.\n",
    "</div>   \n",
    "\n",
    "\n",
    "\n",
    "\n"
   ]
  },
  {
   "cell_type": "markdown",
   "metadata": {},
   "source": [
    "### Probabilistic Interpretation\n",
    "\n",
    "One can also interpret precision and recall not as ratios but as [estimations of probabilities](https://en.wikipedia.org/wiki/Precision_and_recall):\n",
    "\n",
    "$ precision = \\frac{T_p}{T_p+F_p} = Pr(Y=positive | X\\hspace{1mm}is\\hspace{1mm}predicted\\hspace{1mm}as\\hspace{1mm}positive)$\n",
    "\n",
    "- Precision is the estimated probability that a random point selected from the samples are positive. This might be a tough pill to swallow as someone who was never good in statistics. But if you try to think a bit further, you can form an intuition as follows:\n",
    "\n",
    "> If your classifier $h$ is trained and the last layer is say, sigmoid, which in binary classification, calibrates the logits and turn them into probabilities. I understand it this as given a randomly chosen point $x \\in X_{train}$, what is probability of this point $x$ to be positive given that it is predicted as positive by the classifer?"
   ]
  },
  {
   "cell_type": "markdown",
   "metadata": {},
   "source": [
    "### Implementation of Precision"
   ]
  },
  {
   "cell_type": "code",
   "execution_count": 16,
   "metadata": {},
   "outputs": [
    {
     "name": "stdout",
     "output_type": "stream",
     "text": [
      "hn precision: 0.6666666666666666\n",
      "sklearn precision: 0.6666666666666666\n"
     ]
    }
   ],
   "source": [
    "y_true = np.array([1,1,0,1,0,0])\n",
    "y_pred = np.array([1,1,1,0,0,0])\n",
    "\n",
    "def reighns_confusion_matrix(y_true, y_pred):\n",
    "    tp, tn, fp, fn = 0, 0, 0, 0\n",
    "    \n",
    "    for y_t, y_p in zip(y_true, y_pred):\n",
    "        # if actual and predicted both are positive class\n",
    "        if y_t == y_p == 1:\n",
    "            tp += 1\n",
    "        # if actual and predicted both are negative class\n",
    "        elif y_t == y_p == 0:\n",
    "            tn += 1\n",
    "        # if actual is negative and predicted is positive\n",
    "        elif y_t == 0 and y_p == 1:\n",
    "            fp += 1\n",
    "        # if actual is positive and predicted is negative\n",
    "        elif y_t == 1 and y_p == 0:\n",
    "            fn +=1\n",
    "    \n",
    "    return tp, fp, tn, fn\n",
    "\n",
    "tp, fp, tn, fn = reighns_confusion_matrix(y_true, y_pred)\n",
    "reighns_precision = tp / (tp + fp)\n",
    "\n",
    "print(f\"hn precision: {reighns_precision}\")\n",
    "\n",
    "from sklearn.metrics import precision_score\n",
    "sklearn_precision = precision_score(y_true, y_pred, average='binary')\n",
    "\n",
    "print(f\"sklearn precision: {sklearn_precision}\")"
   ]
  },
  {
   "cell_type": "markdown",
   "metadata": {},
   "source": [
    "## Recall/Sensitivity"
   ]
  },
  {
   "cell_type": "markdown",
   "metadata": {},
   "source": [
    "### Definition\n",
    "\n",
    "<div class=\"alert alert-block alert-success\">\n",
    "<b>Definition:</b> Recall measures: out of all the actual positives (the real cancer patients), how many of them were identified correctly by the classifier?\n",
    "</div>\n",
    "\n",
    "$$\\text{Recall}= \\dfrac{\\text{TP}}{\\text{TP} + \\text{FN}}$$\n",
    "\n",
    "---\n",
    "\n",
    "From the formula, we see the denominator to be defined as TP + FN, which is unsurprising as this gives you the actual number of positives.\n",
    "\n",
    "---\n",
    "\n",
    "Another way to construct the formula can be easily seen when you have your end goal in mind. If your end goal is to correctly classify all actual positives as actual positives, that is, if the sample's ground truth label is positive, you want your classifier to predict all samples with positive label with as much accuracy as possible. And since \n",
    "$$\\text{Actual Number of Positives = TP + FN}$$ \n",
    "it is therefore easy to see that minimizing FN is also maximizing TP."
   ]
  },
  {
   "cell_type": "markdown",
   "metadata": {},
   "source": [
    "### When to use Recall?\n",
    "\n",
    "- When your company needs you to ***restrict the number of False Negatives***.\n",
    "\n",
    "- Recall/Sensitivity therefore quantifies the avoidance of False Negatives.\n",
    "\n",
    "#### Example on `recall`\n",
    "\n",
    "For disease data modeling, anything that doesn't account for false-negatives is a crime. Recall is a better measure than precision.\n",
    "\n",
    "### When to NOT use Recall?\n",
    "\n",
    "<div class=\"alert alert-block alert-danger\">\n",
    "<b>Danger:</b> \n",
    "<li> When you prioritize precision more than recall for your business needs.\n",
    "<li> You almost never ever use `recall` as a single metric, see 2.5 for intuition.\n",
    "</div>\n",
    "\n",
    "---\n",
    "\n",
    "<div class=\"alert alert-block alert-warning\">\n",
    "<b>Example:</b> Consider a pharmaceutical company named *PredictC* in China that has developed a new testing kit to detect whether a breast tumor is positive (malignant) or negative (benign). The company tested its kits on 10,000 ladies in the Wuhan city - these 10,000 ladies are our training samples. There are two outcomes/classes, \n",
    "<li> positive class = malignant\n",
    "<li> negative class = benign\n",
    "\n",
    "This clinical trial involving 10,000 ladies involves a random sampling (and we assume the classes are quite balanced). The Data Scientists in Preggie needs to come up with a binary classification model that predicts the \"accuracy\" of their testing kit. Of course, the data scientists in Preggie are smart, they evaluate their classifier/model not by their `accuracy` but by their `recall` instead. \n",
    "\n",
    "This is because they want to minimize their False Negatives in their classifier. From the company's perspective, they want their testing kit to **reduce the number of false negatives as much as possible**.\n",
    "</div>   \n",
    "\n",
    "\n"
   ]
  },
  {
   "cell_type": "markdown",
   "metadata": {},
   "source": [
    "### Probabilistic Interpretation\n",
    "\n",
    "One can also interpret precision and recall not as ratios but as [estimations of probabilities](https://en.wikipedia.org/wiki/Precision_and_recall):\n",
    "\n",
    "When I look at this, it sounds like a $conditional$ probability to me -- probability that a test instance will be classified as positive, given that it is indeed positive:-\n",
    "\n",
    "$ recall = \\frac{T_p}{T_p+F_n} = Pr(X\\hspace{1mm}is\\hspace{1mm}predicted\\hspace{1mm}as\\hspace{1mm}positive | X=positive)$\n",
    "\n",
    "> For intuition, see the same section in Precision."
   ]
  },
  {
   "cell_type": "markdown",
   "metadata": {},
   "source": [
    "### Implementation of Precision"
   ]
  },
  {
   "cell_type": "markdown",
   "metadata": {},
   "source": [
    "## **Precision-Recall Curve**\n",
    "\n",
    "### Loss function and decision Function\n",
    "\n",
    "[Loss function and decision Function link](https://stats.stackexchange.com/questions/104988/what-is-the-difference-between-a-loss-function-and-decision-function)\n",
    "\n",
    "A **decision function** is a function which takes a dataset as input and gives a decision as output. What the decision can be depends on the problem at hand. Examples include:\n",
    "\n",
    " - *Estimation problems:* the \"decision\" is the estimate.\n",
    " - *Hypothesis testing problems:* the decision is to reject or not reject the null hypothesis. Think of Linear Regression problems, they are mostly related to hypothesis testing.\n",
    " - *Classification problems:* the decision is to classify a new observation (or observations) into a category.\n",
    " - *Model selection problems:* the decision is to chose one of the candidate models.\n",
    "\n",
    "Typically, there are an infinite number of decision functions available for a problem. If we for instance are interested in estimating the height of Swedish males based on ten observations $\\mathbf{x}=(x_1,x_2,\\ldots,x_{10})$, we can use any of the following decision functions $d(\\mathbf{x})$:\n",
    "\n",
    " - The sample mean: $d(\\mathbf{x})=\\frac{1}{10}\\sum_{i=1}^{10}x_i$.\n",
    " - The median of the sample: $d(\\mathbf{x})=\\mbox{median}(\\mathbf{x})$\n",
    " - The geometric mean of the sample: $d(\\mathbf{x})=\\sqrt[10]{x_1\\cdots x_{10}}$\n",
    " - The function that always returns 1: $d(\\mathbf{x})=1$, regardless of the value of $\\mathbf{x}$. Silly, yes, but it is nevertheless a valid decision function.\n",
    "\n",
    "How then can we determine which of these decision functions to use? One way is to use a **loss function**, which describes the loss (or cost) associated with all possible decisions. Different decision functions will tend to lead to different types of mistakes. The loss function tells us which type of mistakes we should be more concerned about. The best decision function is the function that yields the lowest **expected loss**. What is meant by expected loss depends on the setting (in particular, whether we are talking about [frequentist][1] or [Bayesian][2] statistics).\n",
    "\n",
    "**In summary:** \n",
    "\n",
    " - Decision functions are used to make decisions based on data.\n",
    " - Loss functions are used to determine which decision function to use.\n",
    "\n",
    "\n",
    "  [1]: http://en.wikipedia.org/wiki/Frequentist_inference\n",
    "  [2]: http://en.wikipedia.org/wiki/Bayesian_statistics\n",
    "  \n",
    "  \n",
    "### An extensive study on Precision-Recall Curve\n",
    "\n",
    "\n",
    "\n",
    "Before I start, I will quote [Frank Harrell's first](https://www.fharrell.com/post/classification/) and [his second](http://www.fharrell.com/2017/03/damage-caused-by-classification.html) article. I will also use the links on stack exchange [here](https://stats.stackexchange.com/questions/312780/why-is-accuracy-not-the-best-measure-for-assessing-classification-models) and [here](https://stats.stackexchange.com/questions/368949/example-when-using-accuracy-as-an-outcome-measure-will-lead-to-a-wrong-conclusio) by [Stephan Kolassa](https://stats.stackexchange.com/users/1352/stephan-kolassa). They are really good and the entire intuition is from him, I will almost use his intuition verbatim and everything in this section will be credited to the links above; I just find it too difficult to phrase it in my own words because their answers are perfect.\n",
    "\n",
    "Basically, let me put it up front now: ***Accuracy, Sensitivity and Specificity are one-sided or conditional versions of classification accuracy. As such they are also discontinuous improper accuracy scores, and optimizing them will result in the wrong model.***  \n",
    "\n",
    "\n",
    "\n",
    "The `confusion matrix` and the `classification report` provide a very detailed analysis of a particular set of predictions. However, the predictions themselves already threw away a lot of information that is contained in the model - to explain this statement further: We consider the example of a logistic regression classifier, used to predict whether a patient has cancer (1, positive class) or not (0, negative class). We defined Y as our response variable, outputting only 1 or 0, while X is the set of predictors.\n",
    "\n",
    "In the case of our cancer classification model, (which we assume to be a logistic regression classifier), we remember that the positive class (class = 1) is the patient has cancer, and the negative class (class = 0) is the patient does not have cancer. And to delve a little deeper, our default classification threshold is:\n",
    "    \n",
    "$\\begin{equation}\n",
    " Y=\\begin{cases}\n",
    "1, & \\text{if $P(Y=1 ~|~X) \\geq 0.5$}\\\\\n",
    "0, & \\text{if $P(Y=1~|~X) < 0.5$}\\\\\n",
    "\\end{cases} \\end{equation}$\n",
    "\n",
    "which means that whenever our logistic regression outputs a probability of the patient getting cancer is more than $0.5$, we classify the patient to be in the positive class (predict him/her to have cancer). When we use the `LogisticClassifier()` to fit and predict, we are actually predicting the probability $p(X)$, i.e.the probability of the patient having cancer given predictors X; Consequently, we need to further set a threshold, or to make a decision on whether to classify a patient as cancer or benign based on the probability we get from $$p(X) = \\dfrac{e^{\\beta_0}+\\beta_1X_1+...+\\beta_nX_n}{1+ e^{\\beta_0}+\\beta_1X_1+...+\\beta_nX_n}$$\n",
    "\n",
    "The threshold is defaulted to 0.5 in `predict_proba`. As we discussed earlier, most classifiers provide a `decision_function` or a `predict_proba` method to assess degrees of certainty about predictions. Making predictions can be seen as thresholding the output of `decision_function` or `predict_proba` at a certain fixed point; in binary classification we use 0 for the decision function and 0.5 for predict_proba as default.\n",
    "\n",
    "\n",
    "<br>\n",
    "\n",
    "\n",
    "To fully evaluate the effectiveness of a model, you must examine both precision and recall. Unfortunately, precision and recall are often in tension. That is, improving precision typically reduces recall and vice versa. Explore this notion by looking at the following figure, which shows 30 predictions made by an email classification model. Those to the right of the classification threshold are classified as \"spam\", while those to the left are classified as \"not spam.\"\n",
    "\n",
    "Always remember, do not ever just use a single metric like `recall, precision` to gauge your classifier. This is because your stupid classifier (say `SVM()` may somehow trivially classify everything as the positive class,  and then you will get 100% recall).\n",
    "\n",
    "\n",
    "### When to use Precision-Recall\n",
    "\n",
    "[Precision-Recall paper](http://pages.cs.wisc.edu/~jdavis/davisgoadrichcamera2.pdf)\n",
    "Precision-Recall curves should be used when there is a moderate to large class imbalance.\n",
    "\n",
    "Precision and recall, however, don't consider true negatives and thus won't be affected by the relative imbalance (which is precisely why they're used for imbalanced datasets). \n",
    "\n",
    "\n",
    "[Kaggle Forum](https://www.kaggle.com/general/7517#41179)\n",
    "\n",
    "As goes for any metric, your metric depends entirely on what I you mean to do with the data.\n",
    "\n",
    "I think intuitively you can say that if your model needs to perform equally well on the positive class as the negative class (for example, for classifying images between cats and dogs, you would like the model to perform well on the cats as well as on the dogs. For this you would use the ROC AUC.\n",
    "\n",
    "On the other hand, if you're not really interested in how the model performs on the negative class, but just want to make sure every positive prediction is correct (precision), and that you get as many of the positives predicted as positives as possible (recall), then you should choose PR AUC. For example, for detecting cancer, you don't care how many of the negative predictions are correct, you want to make sure all the positive predictions are correct, and that you don't miss any. (In fact, in this case missing a cancer would be worse then a false positive so you'd want to put more weight towards recall.)\n",
    "\n",
    "True negatives need to be meaningful for ROC to be a good choice of measure. In his example, if we've got 1,000 pictures of cats and dogs and our model determines whether the picture is a cat (target = 0) or a dog (target = 1), we probably care just as much about getting the cats right as the dogs, and so ROC is a good choice of metric.\n",
    "\n",
    "If instead, we've got a collection of 1,000,000 pictures and we build a model to try to identify the 1,000 dog pictures mixed in it, correctly identifying \"not-dog\" pictures is not quite as useful. Instead, it makes more sense to measure how often a picture is a dog when our model says it's a dog (i.e., precision) and how many of the dogs in the picture set we found (i.e., recall)."
   ]
  },
  {
   "cell_type": "markdown",
   "metadata": {},
   "source": [
    "# Receiver operating characteristic (ROC)\n",
    "\n",
    "[Wikipedia has an extensive explanation of the probability behind ROC](https://en.wikipedia.org/wiki/Receiver_operating_characteristic)\n",
    "\n",
    "\n",
    "[Reference I](https://www.kaggle.com/c/siim-isic-melanoma-classification/discussion/173020)\n",
    "\n",
    "[On why thresholds return 2 sometimes](https://stackoverflow.com/questions/52358114/why-is-roc-curve-return-an-additional-value-for-the-thresholds-2-0-for-some-cl)(https://stackoverflow.com/questions/23200518/scikit-learn-roc-curve-why-does-it-return-a-threshold-value-2-some-time)\n",
    "\n",
    "[PR-Curve vs ROC-Curve](https://neptune.ai/blog/f1-score-accuracy-roc-auc-pr-auc#:~:text=ROC%20AUC%20vs%20PR%20AUC&text=What%20is%20different%20however%20is,and%20true%20positive%20rate%20TPR.)\n",
    "\n",
    "\n",
    "https://stackoverflow.com/questions/59666138/sklearn-roc-auc-score-with-multi-class-ovr-should-have-none-average-available\n",
    "https://stackoverflow.com/questions/39685740/calculate-sklearn-roc-auc-score-for-multi-class\n",
    "https://datascience.stackexchange.com/questions/36862/macro-or-micro-average-for-imbalanced-class-problems#:~:text=Micro%2Daverage%20is%20preferable%20if,your%20dataset%20varies%20in%20size.\n",
    "https://www.google.com/search?q=roc_auc_score+multiclass+site:stackoverflow.com&rlz=1C1CHBF_enSG891SG891&sxsrf=ALeKk018tRSfmKgIUw63SPI8dsdkvJgPuw:1608711331403&sa=X&ved=2ahUKEwjg7NDb1OPtAhUXVH0KHVNHCmwQrQIoBHoECAMQBQ&biw=1280&bih=610\n",
    "https://stackoverflow.com/questions/56227246/how-to-calculate-roc-auc-score-having-3-classes\n",
    "https://glassboxmedicine.com/2019/02/23/measuring-performance-auc-auroc/\n",
    "https://stackoverflow.com/questions/56227246/how-to-calculate-roc-auc-score-having-3-classes\n",
    "\n",
    "\n",
    "## Definition of Binary Classification ROC-AUC\n",
    "\n",
    "\n",
    "    sklearn.metrics.roc_auc_score(y_true, y_score, *, average='macro', sample_weight=None, max_fpr=None, multi_class='raise', labels=None)\n",
    "    \n",
    "    \n",
    "**y_score: array-like of shape (n_samples,) or (n_samples, n_classes)**\n",
    "\n",
    "Target scores. In the binary and multilabel cases, these can be either probability estimates or non-thresholded decision values (as returned by decision_function on some classifiers). In the multiclass case, these must be probability estimates which sum to 1. The binary case expects a shape (n_samples,), and the scores must be the scores of the class with the greater label. The multiclass and multilabel cases expect a shape (n_samples, n_classes). In the multiclass case, the order of the class scores must correspond to the order of labels, if provided, or else to the numerical or lexicographical order of the labels in y_true.\n",
    "\n",
    "Understanding the binary case is important, it says that the binary case expects a list/array of shape `(n_samples,)`, a 1d-array, where the scores inside the 1d-array must be the scores of the **greater label**. In other words, if you have class 0 and 1, then the greater label is `np.argmax(0,1) = 1`. As a consequence, it is important that you should only pass the \"positive class\" which is the \"greater label\" here into the `y_score`. \n",
    "\n",
    "In multiclass, there are two cases, either you provide a `labels` argument in, say `labels = [0,2,1]` or `labels = [0,1,2]`, or if you do not provide, then the `y_score` will necessarily be in the order of the numerical/alphabetical order of the labels in `y_true`. In other words, if `y_true` has 3 unique labels: 0, 1 and 2; then the `y_score` will be a **2d-array** in the form of `y_score = [[0.2, 0.3, 0.5],[...],[...]]` where `y_score[0] = [0.2,0.3,0.5]` must correspond to class 1, 2 and 3 respectively, unless otherwise stated in `labels`.\n",
    "\n",
    "\n",
    "### First Interpretation\n",
    "\n",
    "Now ROC curve is a TPR vs FPR graph, and the AUC is the area under the curve literally. To find the ROC-AUC, we need to plot many different pairs of points on the graph, and compute the area under it.\n",
    "\n",
    "As we can see from the above naive and simple example, there are a total of 6 pairs of points to plot. Those are from `fpr`, `tpr` respectively --> Allow me to further explain with this example where 1 is the positive class:\n",
    "\n",
    "    y_true_1 = [0,0,1,1,0,0,1,1]\n",
    "    y_preds_1 = [0.1,0.2,0.3,0.4,0.5,0.6,0.7,0.8]\n",
    "\n",
    "1. We need to initialize the thresholds with a large number usually - usually `roc_curve` is written so that ROC point corresponding to the highest threshold `(fpr[0], tpr[0])` is always `(0, 0)`. If this is not the case, a new threshold is created with an arbitrary value of `max(y_score)+1`. Therefore, in this case, we get 1.8 as the first threshold. This large number will ensure the `fpr, tpr` starts at (0,0).\n",
    "\n",
    "2. Next, when the threshold is $T=0.8$, then one can see that `y_preds_1` has 1 predictions 1, so `y_preds_1=[0,0,0,0,0,0,0,1]` and hence we can calculate the FPR and TPR: FPR will be 0 because no negative samples 0 are misclassified as 1 in our prediction. TPR will be 0.25 because by definition TPR=TP/TP+FN = 1/1+3=0.25 by definition. Therefore `(fpr, tpr) = (0,0.25)`\n",
    "\n",
    "3. $T=0.7 \\rightarrow$ `y_preds_1 = [0,0,0,0,0,0,1,1]`, same logic, FPR will be 0 cause no negative samples 0 are classified as 1 by our classifier! But TPR will be 0.5 because TPR = TP/TP+FN = 2/2+2 = 0.5. Therefore `(fpr, tpr) = (0,0.5)`\n",
    "\n",
    "4. We continue this way until we exhaust all thresholds given `[array([1.8, 0.8, 0.7, 0.5, 0.3, 0.1])]`. And we plot on the graph. \n",
    "\n",
    "5. How then, do we calculate the area under this curve? One can refer to the source code `auc` in `sklearn.metrics.auc` and see that they used **[Trapezoidal Rule](https://en.wikipedia.org/wiki/Trapezoidal_rule)** to solve it.\n",
    "\n",
    "6. So one have a rough idea, how the `ROC-AUC` area is computed, and one has to bear in mind that the area is calculated over all thresholds (apparently not the case as `sklearn` discretized the thresholds to reduce computing time, so you will not see the full range of thresholds here). \n",
    "\n",
    "7. As discussed earlier on [PR vs AUC](https://stats.stackexchange.com/questions/7207/roc-vs-precision-and-recall-curves), The key difference is that ROC curves will be the same no matter what the baseline probability is, but PR curves may be more useful in practice for needle-in-haystack type problems or problems where the \"positive\" class is more interesting than the negative class.\n",
    "\n",
    "    To show this, first let's start with a very nice way to define precision, recall and specificity.  Assume you have a \"positive\" class called 1 and a \"negative\" class called 0.  $\\hat{Y}$ is your estimate of the true class label $Y$.  Then:\n",
    "    $$\n",
    "    \\begin{aligned}\n",
    "    &\\text{Precision} &= P(Y = 1 | \\hat{Y} = 1)  \\\\\n",
    "    &\\text{Recall} = \\text{Sensitivity} &= P(\\hat{Y} = 1 | Y = 1)  \\\\\n",
    "    &\\text{Specificity} &= P(\\hat{Y} = 0 | Y = 0)\n",
    "    \\end{aligned}\n",
    "    $$\n",
    "    The key thing to note is that sensitivity/recall and specificity, which make up the ROC curve, are probabilities *conditioned on the true class label*.  Therefore, they will be the same regardless of what $P(Y = 1)$ is.  Precision is a probability conditioned on *your estimate of the class label* and will thus vary if you try your classifier in different populations with different baseline $P(Y = 1)$.  However, it may be more useful in practice if you only care about one population with known background probability and the \"positive\" class is much more interesting than the \"negative\" class.  (IIRC precision is popular in the document retrieval field, where this is the case.)  This is because it directly answers the question, \"What is the probability that this is a real hit given my classifier says it is?\". \n",
    "\n",
    "    Interestingly, by Bayes' theorem you can work out cases where specificity can be very high and precision very low simultaneously.  All you have to do is assume $P(Y = 1)$ is very close to zero.  In practice I've developed several classifiers with this performance characteristic when searching for needles in DNA sequence haystacks.\n",
    "\n",
    "    IMHO when writing a paper you should provide whichever curve answers the question you want answered (or whichever one is more favorable to your method, if you're cynical).  If your question is: \"How meaningful is a positive result from my classifier *given the baseline probabilities of my problem*?\", use a PR curve.  If your question is, \"How well can this classifier be expected to perform *in general, at a variety of different baseline probabilities*?\", go with a ROC curve.\n",
    "\n",
    "\n"
   ]
  },
  {
   "cell_type": "markdown",
   "metadata": {},
   "source": [
    "## Binary ROC code from SKLEARN"
   ]
  },
  {
   "cell_type": "markdown",
   "metadata": {},
   "source": [
    "**Average Parameter Will be ignored when y_true is binary.**\n",
    "\n",
    "**Average Parameter Will be ignored when y_true is binary.**\n",
    "\n",
    "**Average Parameter Will be ignored when y_true is binary.**\n",
    "\n",
    "The above is important as there will be no difference on whether you put `average='macro,micro,samples'` etc."
   ]
  },
  {
   "cell_type": "code",
   "execution_count": 3,
   "metadata": {},
   "outputs": [
    {
     "name": "stdout",
     "output_type": "stream",
     "text": [
      "0.75 [0.  0.  0.  0.5 0.5 1. ] [0.   0.25 0.5  0.5  1.   1.  ] [1.8 0.8 0.7 0.5 0.3 0.1]\n",
      "0.25 [0.   0.25 0.5  0.5  1.   1.  ] [0.  0.  0.  0.5 0.5 1. ] [1.8 0.8 0.7 0.5 0.3 0.1]\n"
     ]
    }
   ],
   "source": [
    "y_true_binary = [0, 0, 1, 1, 0, 0, 1, 1]\n",
    "y_preds_binary = [0.1, 0.2, 0.3, 0.4, 0.5, 0.6, 0.7, 0.8]\n",
    "roc_1 = sklearn.metrics.roc_auc_score(y_true=y_true_binary, y_score=y_preds_binary, average=\"macro\", sample_weight=None, max_fpr=None)\n",
    "fpr_1, tpr_1, thresholds_1 = sklearn.metrics.roc_curve(y_true_binary, y_preds_binary, drop_intermediate=True)\n",
    "print(roc_1, fpr_1, tpr_1, thresholds_1)\n",
    "\n",
    "# If we invert our y_true_binary to make 0 class 1 and class 1 0, then it will just be 1-roc_1!\n",
    "\n",
    "y_true_binary = [1,1,0,0,1,1,0,0]\n",
    "y_preds_binary = [0.1, 0.2, 0.3, 0.4, 0.5, 0.6, 0.7, 0.8]\n",
    "roc_2 = sklearn.metrics.roc_auc_score(y_true=y_true_binary, y_score=y_preds_binary, average=\"macro\", sample_weight=None, max_fpr=None)\n",
    "fpr_2, tpr_2, thresholds_2 = sklearn.metrics.roc_curve(y_true_binary, y_preds_binary, drop_intermediate=True)\n",
    "print(roc_2, fpr_2, tpr_2, thresholds_2)\n",
    "\n",
    "#fpr_1, tpr_1, thresholds_1 = roc_curve(y_true, y_preds, drop_intermediate=False)\n",
    "\n"
   ]
  },
  {
   "cell_type": "code",
   "execution_count": 4,
   "metadata": {},
   "outputs": [
    {
     "data": {
      "image/png": "[encoded data removed]",
      "text/plain": [
       "<Figure size 720x648 with 1 Axes>"
      ]
     },
     "metadata": {
      "needs_background": "light"
     },
     "output_type": "display_data"
    }
   ],
   "source": [
    "import matplotlib.pyplot as plt\n",
    "plt.figure(figsize =[10,9])\n",
    "plt.title('Receiver Operating Characteristic')\n",
    "plt.plot(fpr_1, tpr_1, 'b', label = 'AUC = %0.2f' % roc_1)\n",
    "plt.legend(loc = 'lower right')\n",
    "plt.plot([0, 1], [0, 1],'r--')\n",
    "plt.xlim([0, 1])\n",
    "plt.ylim([0, 1])\n",
    "plt.ylabel('True Positive Rate')\n",
    "plt.xlabel('False Positive Rate')\n",
    "plt.show();"
   ]
  },
  {
   "cell_type": "markdown",
   "metadata": {},
   "source": [
    "## Multi-Class ROC\n",
    "\n",
    "In multi-class model, we can plot N number of AUC ROC Curves for N number classes using One vs ALL methodology. So for Example, If you have three classes named X, Y and Z, you will have one ROC for X classified against Y and Z, another ROC for Y classified against X and Z, and a third one of Z classified against Y and X.\n",
    "\n",
    "\n",
    "Firstly, you need to make use of the below code in [source](https://github.com/scikit-learn/scikit-learn/blob/0fb307bf3/sklearn/metrics/_ranking.py#L690) where we are using the concept of One-Vs-All (ovr) and first thing first, for all `y_true` labels, we need to `label_binarize` them. As we can see, we must pass in the `y_true` and `classes` in which if our classes are `[0,1,2,3,4,5]` then we need to specify in the `labels` argument of `roc_auc_curve`. If we do not specify, the `_encode` will help us as well, so it is up to one's preference if your labels order matter.\n",
    "\n",
    "    else:\n",
    "        # ovr is same as multi-label\n",
    "        y_true_multilabel = label_binarize(y_true, classes=classes)\n",
    "        return _average_binary_score(_binary_roc_auc_score, y_true_multilabel,\n",
    "                                     y_score, average,\n",
    "                                     sample_weight=sample_weight)"
   ]
  },
  {
   "cell_type": "code",
   "execution_count": 5,
   "metadata": {},
   "outputs": [
    {
     "data": {
      "text/plain": [
       "(5, 1)"
      ]
     },
     "execution_count": 5,
     "metadata": {},
     "output_type": "execute_result"
    },
    {
     "data": {
      "text/plain": [
       "array([0, 0, 0, 0, 1])"
      ]
     },
     "execution_count": 5,
     "metadata": {},
     "output_type": "execute_result"
    }
   ],
   "source": [
    "y = [0,0,0,0,1]\n",
    "y_binarize=sklearn.preprocessing.label_binarize(y, classes=[0,1])\n",
    "y_binarize.shape\n",
    "y_binarize[:,0]"
   ]
  },
  {
   "cell_type": "code",
   "execution_count": 6,
   "metadata": {},
   "outputs": [],
   "source": [
    "# This code belows also WORKS for Binary class if you are using Softmax Predictions!\n",
    "# replicating from https://scikit-learn.org/stable/auto_examples/model_selection/plot_roc.html#multiclass-settings\n",
    "def multiclass_roc(y_true,y_preds_softmax_array,config):\n",
    "    label_dict = dict()   \n",
    "    fpr = dict()\n",
    "    tpr = dict()\n",
    "    roc_auc = dict()\n",
    "    roc_scores = []\n",
    "    for label_num in range(len(config.class_list)):\n",
    "        \n",
    "        # get y_true_multilabel binarized version for each loop (end of each epoch)\n",
    "        y_true_multiclass_array = sklearn.preprocessing.label_binarize(y_true, classes=config.class_list)\n",
    "\n",
    "        y_true_for_curr_class = y_true_multiclass_array[:,label_num]\n",
    "        y_preds_for_curr_class = y_preds_softmax_array[:, label_num]\n",
    "        # calculate fpr,tpr and thresholds across various decision thresholds\n",
    "        # pos_label = 1 because one hot encode guarantees it\n",
    "        fpr[label_num],tpr[label_num],_ = sklearn.metrics.roc_curve(y_true=y_true_for_curr_class,\n",
    "                                                       y_score=y_preds_for_curr_class,\n",
    "                                                       pos_label=1)\n",
    "        roc_auc[label_num] = sklearn.metrics.auc(fpr[label_num], tpr[label_num])\n",
    "        roc_scores.append(roc_auc[label_num])\n",
    "        # if binary class, the one hot encode will (n_samples,1) and therefore will only need to slice [:,0] ONLY.\n",
    "        # that is why usually for binary class, we do not need to use this piece of code, just for testing purposes.\n",
    "        # However, it will now treat our 0 (negative class) as positive, hence returning the roc for 0, in which case\n",
    "        # to get both 0 and 1, you just need to use 1-roc(0)value\n",
    "        if config.num_classes == 2:\n",
    "            roc_auc[config.class_list[1]] = 1 - roc_auc[label_num]\n",
    "            break\n",
    "    avg_roc_score = np.mean(roc_scores)    \n",
    "    return roc_auc, avg_roc_score"
   ]
  },
  {
   "cell_type": "markdown",
   "metadata": {},
   "source": [
    "#TODO: One can compare using Cassava dataset to see that `sklearn.metrics.roc_auc_score(y_true=val_gt_label_array, y_score=val_preds_softmax_array,multi_class='ovr')`\n",
    "vs \n",
    "`multiclass_roc(y_true,y_preds_softmax_array,config)` will yield almost the same results...\n",
    "`\n",
    "\n",
    "#TODO: use pycm to do as well"
   ]
  },
  {
   "cell_type": "code",
   "execution_count": 7,
   "metadata": {
    "_kg_hide-output": true
   },
   "outputs": [
    {
     "name": "stdout",
     "output_type": "stream",
     "text": [
      "Before Label Binarize, y is [0 0 0 0 0 0 0 0 0 0 0 0 0 0 0 0 0 0 0 0 0 0 0 0 0 0 0 0 0 0 0 0 0 0 0 0 0\n",
      " 0 0 0 0 0 0 0 0 0 0 0 0 0 1 1 1 1 1 1 1 1 1 1 1 1 1 1 1 1 1 1 1 1 1 1 1 1\n",
      " 1 1 1 1 1 1 1 1 1 1 1 1 1 1 1 1 1 1 1 1 1 1 1 1 1 1 2 2 2 2 2 2 2 2 2 2 2\n",
      " 2 2 2 2 2 2 2 2 2 2 2 2 2 2 2 2 2 2 2 2 2 2 2 2 2 2 2 2 2 2 2 2 2 2 2 2 2\n",
      " 2 2]\n"
     ]
    },
    {
     "data": {
      "text/plain": [
       "array([[1, 0, 0],\n",
       "       [1, 0, 0],\n",
       "       [1, 0, 0],\n",
       "       [1, 0, 0],\n",
       "       [1, 0, 0],\n",
       "       [1, 0, 0],\n",
       "       [1, 0, 0],\n",
       "       [1, 0, 0],\n",
       "       [1, 0, 0],\n",
       "       [1, 0, 0],\n",
       "       [1, 0, 0],\n",
       "       [1, 0, 0],\n",
       "       [1, 0, 0],\n",
       "       [1, 0, 0],\n",
       "       [1, 0, 0],\n",
       "       [1, 0, 0],\n",
       "       [1, 0, 0],\n",
       "       [1, 0, 0],\n",
       "       [1, 0, 0],\n",
       "       [1, 0, 0],\n",
       "       [1, 0, 0],\n",
       "       [1, 0, 0],\n",
       "       [1, 0, 0],\n",
       "       [1, 0, 0],\n",
       "       [1, 0, 0],\n",
       "       [1, 0, 0],\n",
       "       [1, 0, 0],\n",
       "       [1, 0, 0],\n",
       "       [1, 0, 0],\n",
       "       [1, 0, 0],\n",
       "       [1, 0, 0],\n",
       "       [1, 0, 0],\n",
       "       [1, 0, 0],\n",
       "       [1, 0, 0],\n",
       "       [1, 0, 0],\n",
       "       [1, 0, 0],\n",
       "       [1, 0, 0],\n",
       "       [1, 0, 0],\n",
       "       [1, 0, 0],\n",
       "       [1, 0, 0],\n",
       "       [1, 0, 0],\n",
       "       [1, 0, 0],\n",
       "       [1, 0, 0],\n",
       "       [1, 0, 0],\n",
       "       [1, 0, 0],\n",
       "       [1, 0, 0],\n",
       "       [1, 0, 0],\n",
       "       [1, 0, 0],\n",
       "       [1, 0, 0],\n",
       "       [1, 0, 0],\n",
       "       [0, 1, 0],\n",
       "       [0, 1, 0],\n",
       "       [0, 1, 0],\n",
       "       [0, 1, 0],\n",
       "       [0, 1, 0],\n",
       "       [0, 1, 0],\n",
       "       [0, 1, 0],\n",
       "       [0, 1, 0],\n",
       "       [0, 1, 0],\n",
       "       [0, 1, 0],\n",
       "       [0, 1, 0],\n",
       "       [0, 1, 0],\n",
       "       [0, 1, 0],\n",
       "       [0, 1, 0],\n",
       "       [0, 1, 0],\n",
       "       [0, 1, 0],\n",
       "       [0, 1, 0],\n",
       "       [0, 1, 0],\n",
       "       [0, 1, 0],\n",
       "       [0, 1, 0],\n",
       "       [0, 1, 0],\n",
       "       [0, 1, 0],\n",
       "       [0, 1, 0],\n",
       "       [0, 1, 0],\n",
       "       [0, 1, 0],\n",
       "       [0, 1, 0],\n",
       "       [0, 1, 0],\n",
       "       [0, 1, 0],\n",
       "       [0, 1, 0],\n",
       "       [0, 1, 0],\n",
       "       [0, 1, 0],\n",
       "       [0, 1, 0],\n",
       "       [0, 1, 0],\n",
       "       [0, 1, 0],\n",
       "       [0, 1, 0],\n",
       "       [0, 1, 0],\n",
       "       [0, 1, 0],\n",
       "       [0, 1, 0],\n",
       "       [0, 1, 0],\n",
       "       [0, 1, 0],\n",
       "       [0, 1, 0],\n",
       "       [0, 1, 0],\n",
       "       [0, 1, 0],\n",
       "       [0, 1, 0],\n",
       "       [0, 1, 0],\n",
       "       [0, 1, 0],\n",
       "       [0, 1, 0],\n",
       "       [0, 1, 0],\n",
       "       [0, 1, 0],\n",
       "       [0, 1, 0],\n",
       "       [0, 0, 1],\n",
       "       [0, 0, 1],\n",
       "       [0, 0, 1],\n",
       "       [0, 0, 1],\n",
       "       [0, 0, 1],\n",
       "       [0, 0, 1],\n",
       "       [0, 0, 1],\n",
       "       [0, 0, 1],\n",
       "       [0, 0, 1],\n",
       "       [0, 0, 1],\n",
       "       [0, 0, 1],\n",
       "       [0, 0, 1],\n",
       "       [0, 0, 1],\n",
       "       [0, 0, 1],\n",
       "       [0, 0, 1],\n",
       "       [0, 0, 1],\n",
       "       [0, 0, 1],\n",
       "       [0, 0, 1],\n",
       "       [0, 0, 1],\n",
       "       [0, 0, 1],\n",
       "       [0, 0, 1],\n",
       "       [0, 0, 1],\n",
       "       [0, 0, 1],\n",
       "       [0, 0, 1],\n",
       "       [0, 0, 1],\n",
       "       [0, 0, 1],\n",
       "       [0, 0, 1],\n",
       "       [0, 0, 1],\n",
       "       [0, 0, 1],\n",
       "       [0, 0, 1],\n",
       "       [0, 0, 1],\n",
       "       [0, 0, 1],\n",
       "       [0, 0, 1],\n",
       "       [0, 0, 1],\n",
       "       [0, 0, 1],\n",
       "       [0, 0, 1],\n",
       "       [0, 0, 1],\n",
       "       [0, 0, 1],\n",
       "       [0, 0, 1],\n",
       "       [0, 0, 1],\n",
       "       [0, 0, 1],\n",
       "       [0, 0, 1],\n",
       "       [0, 0, 1],\n",
       "       [0, 0, 1],\n",
       "       [0, 0, 1],\n",
       "       [0, 0, 1],\n",
       "       [0, 0, 1],\n",
       "       [0, 0, 1],\n",
       "       [0, 0, 1],\n",
       "       [0, 0, 1]])"
      ]
     },
     "execution_count": 7,
     "metadata": {},
     "output_type": "execute_result"
    }
   ],
   "source": [
    "from sklearn.metrics import roc_curve, auc\n",
    "from sklearn import datasets\n",
    "from sklearn.multiclass import OneVsRestClassifier\n",
    "from sklearn.svm import LinearSVC\n",
    "from sklearn.preprocessing import label_binarize\n",
    "from sklearn.model_selection import train_test_split\n",
    "import matplotlib.pyplot as plt\n",
    "iris = datasets.load_iris()\n",
    "X, y = iris.data, iris.target\n",
    "print('Before Label Binarize, y is {}'.format(y))\n",
    "y = label_binarize(y, classes=[0,1,2])\n",
    "# after binarizing, positive class 0 become \"1\"\n",
    "y"
   ]
  },
  {
   "cell_type": "code",
   "execution_count": 8,
   "metadata": {
    "_kg_hide-output": true
   },
   "outputs": [
    {
     "data": {
      "text/plain": [
       "array([0.32658726, 0.28555402, 0.34511837, 0.3277518 ], dtype=float32)"
      ]
     },
     "execution_count": 8,
     "metadata": {},
     "output_type": "execute_result"
    }
   ],
   "source": [
    "import torch\n",
    "def get_score(y_true, y_pred):\n",
    "    scores = []\n",
    "    for i in range(len(y_true)):\n",
    "        print(y_true[:i])\n",
    "        score = sklearn.metrics.roc_auc_score(y_true[:,i], y_pred[:,i])\n",
    "        scores.append(score)\n",
    "    avg_score = np.mean(scores)\n",
    "    return avg_score, scores\n",
    "\n",
    "y_true = [0,1,2]\n",
    "y_preds_multiclass = torch.as_tensor([[ 0.0802,  0.0347, 0.05],\n",
    "                                      [ 0.2640, -0.0701, 0.03],\n",
    "                                      [-0.0087,  0.0502, 0.0039],\n",
    "                                      [ 0.0496,  0.0059, 0.0123]])\n",
    "\n",
    "\n",
    "\n",
    "y_sigmoid = torch.nn.Sigmoid()(\n",
    "                input=y_preds_multiclass).to(\"cpu\").detach().numpy()\n",
    "y_softmax=torch.nn.Softmax(dim=1)(\n",
    "                input=y_preds_multiclass)[:,1].to(\"cpu\").detach().numpy()\n",
    "y_softmax\n",
    "#y_softmax =np.concatenate(y_softmax,axis=0)\n",
    "#y_softmax\n",
    "#get_score(y_true, y_softmax)"
   ]
  },
  {
   "cell_type": "code",
   "execution_count": 9,
   "metadata": {
    "_kg_hide-output": true
   },
   "outputs": [
    {
     "name": "stdout",
     "output_type": "stream",
     "text": [
      "Before Label Binarize, y is [0 0 0 0 0 0 0 0 0 0 0 0 0 0 0 0 0 0 0 0 0 0 0 0 0 0 0 0 0 0 0 0 0 0 0 0 0\n",
      " 0 0 0 0 0 0 0 0 0 0 0 0 0 1 1 1 1 1 1 1 1 1 1 1 1 1 1 1 1 1 1 1 1 1 1 1 1\n",
      " 1 1 1 1 1 1 1 1 1 1 1 1 1 1 1 1 1 1 1 1 1 1 1 1 1 1 2 2 2 2 2 2 2 2 2 2 2\n",
      " 2 2 2 2 2 2 2 2 2 2 2 2 2 2 2 2 2 2 2 2 2 2 2 2 2 2 2 2 2 2 2 2 2 2 2 2 2\n",
      " 2 2]\n",
      "After Label Binarize, y is [[1 0 0]\n",
      " [1 0 0]\n",
      " [1 0 0]\n",
      " [1 0 0]\n",
      " [1 0 0]\n",
      " [1 0 0]\n",
      " [1 0 0]\n",
      " [1 0 0]\n",
      " [1 0 0]\n",
      " [1 0 0]\n",
      " [1 0 0]\n",
      " [1 0 0]\n",
      " [1 0 0]\n",
      " [1 0 0]\n",
      " [1 0 0]\n",
      " [1 0 0]\n",
      " [1 0 0]\n",
      " [1 0 0]\n",
      " [1 0 0]\n",
      " [1 0 0]\n",
      " [1 0 0]\n",
      " [1 0 0]\n",
      " [1 0 0]\n",
      " [1 0 0]\n",
      " [1 0 0]\n",
      " [1 0 0]\n",
      " [1 0 0]\n",
      " [1 0 0]\n",
      " [1 0 0]\n",
      " [1 0 0]\n",
      " [1 0 0]\n",
      " [1 0 0]\n",
      " [1 0 0]\n",
      " [1 0 0]\n",
      " [1 0 0]\n",
      " [1 0 0]\n",
      " [1 0 0]\n",
      " [1 0 0]\n",
      " [1 0 0]\n",
      " [1 0 0]\n",
      " [1 0 0]\n",
      " [1 0 0]\n",
      " [1 0 0]\n",
      " [1 0 0]\n",
      " [1 0 0]\n",
      " [1 0 0]\n",
      " [1 0 0]\n",
      " [1 0 0]\n",
      " [1 0 0]\n",
      " [1 0 0]\n",
      " [0 1 0]\n",
      " [0 1 0]\n",
      " [0 1 0]\n",
      " [0 1 0]\n",
      " [0 1 0]\n",
      " [0 1 0]\n",
      " [0 1 0]\n",
      " [0 1 0]\n",
      " [0 1 0]\n",
      " [0 1 0]\n",
      " [0 1 0]\n",
      " [0 1 0]\n",
      " [0 1 0]\n",
      " [0 1 0]\n",
      " [0 1 0]\n",
      " [0 1 0]\n",
      " [0 1 0]\n",
      " [0 1 0]\n",
      " [0 1 0]\n",
      " [0 1 0]\n",
      " [0 1 0]\n",
      " [0 1 0]\n",
      " [0 1 0]\n",
      " [0 1 0]\n",
      " [0 1 0]\n",
      " [0 1 0]\n",
      " [0 1 0]\n",
      " [0 1 0]\n",
      " [0 1 0]\n",
      " [0 1 0]\n",
      " [0 1 0]\n",
      " [0 1 0]\n",
      " [0 1 0]\n",
      " [0 1 0]\n",
      " [0 1 0]\n",
      " [0 1 0]\n",
      " [0 1 0]\n",
      " [0 1 0]\n",
      " [0 1 0]\n",
      " [0 1 0]\n",
      " [0 1 0]\n",
      " [0 1 0]\n",
      " [0 1 0]\n",
      " [0 1 0]\n",
      " [0 1 0]\n",
      " [0 1 0]\n",
      " [0 1 0]\n",
      " [0 1 0]\n",
      " [0 1 0]\n",
      " [0 1 0]\n",
      " [0 0 1]\n",
      " [0 0 1]\n",
      " [0 0 1]\n",
      " [0 0 1]\n",
      " [0 0 1]\n",
      " [0 0 1]\n",
      " [0 0 1]\n",
      " [0 0 1]\n",
      " [0 0 1]\n",
      " [0 0 1]\n",
      " [0 0 1]\n",
      " [0 0 1]\n",
      " [0 0 1]\n",
      " [0 0 1]\n",
      " [0 0 1]\n",
      " [0 0 1]\n",
      " [0 0 1]\n",
      " [0 0 1]\n",
      " [0 0 1]\n",
      " [0 0 1]\n",
      " [0 0 1]\n",
      " [0 0 1]\n",
      " [0 0 1]\n",
      " [0 0 1]\n",
      " [0 0 1]\n",
      " [0 0 1]\n",
      " [0 0 1]\n",
      " [0 0 1]\n",
      " [0 0 1]\n",
      " [0 0 1]\n",
      " [0 0 1]\n",
      " [0 0 1]\n",
      " [0 0 1]\n",
      " [0 0 1]\n",
      " [0 0 1]\n",
      " [0 0 1]\n",
      " [0 0 1]\n",
      " [0 0 1]\n",
      " [0 0 1]\n",
      " [0 0 1]\n",
      " [0 0 1]\n",
      " [0 0 1]\n",
      " [0 0 1]\n",
      " [0 0 1]\n",
      " [0 0 1]\n",
      " [0 0 1]\n",
      " [0 0 1]\n",
      " [0 0 1]\n",
      " [0 0 1]\n",
      " [0 0 1]]\n",
      "y_test is [[0 0 1]\n",
      " [0 1 0]\n",
      " [1 0 0]\n",
      " [0 0 1]\n",
      " [1 0 0]\n",
      " [0 0 1]\n",
      " [1 0 0]\n",
      " [0 1 0]\n",
      " [0 1 0]\n",
      " [0 1 0]\n",
      " [0 0 1]\n",
      " [0 1 0]\n",
      " [0 1 0]\n",
      " [0 1 0]\n",
      " [0 1 0]\n",
      " [1 0 0]\n",
      " [0 1 0]\n",
      " [0 1 0]\n",
      " [1 0 0]\n",
      " [1 0 0]\n",
      " [0 0 1]\n",
      " [0 1 0]\n",
      " [1 0 0]\n",
      " [1 0 0]\n",
      " [0 0 1]\n",
      " [1 0 0]\n",
      " [1 0 0]\n",
      " [0 1 0]\n",
      " [0 1 0]\n",
      " [1 0 0]\n",
      " [0 0 1]\n",
      " [0 1 0]\n",
      " [1 0 0]\n",
      " [0 0 1]\n",
      " [0 0 1]\n",
      " [0 1 0]\n",
      " [1 0 0]\n",
      " [0 1 0]\n",
      " [0 1 0]\n",
      " [0 1 0]\n",
      " [0 0 1]\n",
      " [1 0 0]\n",
      " [0 0 1]\n",
      " [1 0 0]\n",
      " [1 0 0]\n",
      " [0 1 0]\n",
      " [0 0 1]\n",
      " [0 0 1]\n",
      " [0 0 1]\n",
      " [0 0 1]]\n",
      "[0 0 1 0 1 0 1 0 0 0 0 0 0 0 0 1 0 0 1 1 0 0 1 1 0 1 1 0 0 1 0 0 1 0 0 0 1\n",
      " 0 0 0 0 1 0 1 1 0 0 0 0 0]\n",
      "[0 1 0 0 0 0 0 1 1 1 0 1 1 1 1 0 1 1 0 0 0 1 0 0 0 0 0 1 1 0 0 1 0 0 0 1 0\n",
      " 1 1 1 0 0 0 0 0 1 0 0 0 0]\n",
      "[1 0 0 1 0 1 0 0 0 0 1 0 0 0 0 0 0 0 0 0 1 0 0 0 1 0 0 0 0 0 1 0 0 1 1 0 0\n",
      " 0 0 0 1 0 1 0 0 0 1 1 1 1]\n"
     ]
    },
    {
     "name": "stderr",
     "output_type": "stream",
     "text": [
      "/opt/conda/lib/python3.6/site-packages/sklearn/svm/base.py:929: ConvergenceWarning: Liblinear failed to converge, increase the number of iterations.\n",
      "  \"the number of iterations.\", ConvergenceWarning)\n",
      "/opt/conda/lib/python3.6/site-packages/sklearn/svm/base.py:929: ConvergenceWarning: Liblinear failed to converge, increase the number of iterations.\n",
      "  \"the number of iterations.\", ConvergenceWarning)\n"
     ]
    },
    {
     "data": {
      "text/plain": [
       "{0: 1.0, 1: 0.8387096774193548, 2: 0.9942857142857143}"
      ]
     },
     "execution_count": 9,
     "metadata": {},
     "output_type": "execute_result"
    }
   ],
   "source": [
    "\n",
    "\n",
    "iris = datasets.load_iris()\n",
    "X, y = iris.data, iris.target\n",
    "print('Before Label Binarize, y is {}'.format(y))\n",
    "y = label_binarize(y, classes=[0,1,2])\n",
    "n_classes = 3\n",
    "print('After Label Binarize, y is {}'.format(y))\n",
    "# shuffle and split training and test sets\n",
    "X_train, X_test, y_train, y_test =\\\n",
    "    train_test_split(X, y, test_size=0.33, random_state=0)\n",
    "print('y_test is {}'.format(y_test))\n",
    "# classifier\n",
    "clf = OneVsRestClassifier(LinearSVC(random_state=0))\n",
    "y_score = clf.fit(X_train, y_train).decision_function(X_test)\n",
    "\n",
    "# Compute ROC curve and ROC area for each class\n",
    "fpr = dict()\n",
    "tpr = dict()\n",
    "roc_auc = dict()\n",
    "for i in range(n_classes):\n",
    "    # here we take the axis column 0, 1 and 2 slice\n",
    "    print(y_test[:, i])\n",
    "    fpr[i], tpr[i], _ = roc_curve(y_test[:, i], y_score[:, i])\n",
    "    roc_auc[i] = auc(fpr[i], tpr[i])\n",
    "\n",
    "roc_auc"
   ]
  },
  {
   "cell_type": "code",
   "execution_count": 10,
   "metadata": {},
   "outputs": [
    {
     "data": {
      "text/plain": [
       "<Figure size 432x288 with 0 Axes>"
      ]
     },
     "execution_count": 10,
     "metadata": {},
     "output_type": "execute_result"
    },
    {
     "data": {
      "text/plain": [
       "[<matplotlib.lines.Line2D at 0x7f0ce445fa20>]"
      ]
     },
     "execution_count": 10,
     "metadata": {},
     "output_type": "execute_result"
    },
    {
     "data": {
      "text/plain": [
       "[<matplotlib.lines.Line2D at 0x7f0ce445fba8>]"
      ]
     },
     "execution_count": 10,
     "metadata": {},
     "output_type": "execute_result"
    },
    {
     "data": {
      "text/plain": [
       "(0.0, 1.0)"
      ]
     },
     "execution_count": 10,
     "metadata": {},
     "output_type": "execute_result"
    },
    {
     "data": {
      "text/plain": [
       "(0.0, 1.05)"
      ]
     },
     "execution_count": 10,
     "metadata": {},
     "output_type": "execute_result"
    },
    {
     "data": {
      "text/plain": [
       "Text(0.5, 0, 'False Positive Rate')"
      ]
     },
     "execution_count": 10,
     "metadata": {},
     "output_type": "execute_result"
    },
    {
     "data": {
      "text/plain": [
       "Text(0, 0.5, 'True Positive Rate')"
      ]
     },
     "execution_count": 10,
     "metadata": {},
     "output_type": "execute_result"
    },
    {
     "data": {
      "text/plain": [
       "Text(0.5, 1.0, 'Receiver operating characteristic example')"
      ]
     },
     "execution_count": 10,
     "metadata": {},
     "output_type": "execute_result"
    },
    {
     "data": {
      "text/plain": [
       "<matplotlib.legend.Legend at 0x7f0ce44505c0>"
      ]
     },
     "execution_count": 10,
     "metadata": {},
     "output_type": "execute_result"
    },
    {
     "data": {
      "image/png": "[encoded data removed]",
      "text/plain": [
       "<Figure size 432x288 with 1 Axes>"
      ]
     },
     "metadata": {
      "needs_background": "light"
     },
     "output_type": "display_data"
    },
    {
     "data": {
      "text/plain": [
       "<Figure size 432x288 with 0 Axes>"
      ]
     },
     "execution_count": 10,
     "metadata": {},
     "output_type": "execute_result"
    },
    {
     "data": {
      "text/plain": [
       "[<matplotlib.lines.Line2D at 0x7f0ce43c3d30>]"
      ]
     },
     "execution_count": 10,
     "metadata": {},
     "output_type": "execute_result"
    },
    {
     "data": {
      "text/plain": [
       "[<matplotlib.lines.Line2D at 0x7f0ce43c3eb8>]"
      ]
     },
     "execution_count": 10,
     "metadata": {},
     "output_type": "execute_result"
    },
    {
     "data": {
      "text/plain": [
       "(0.0, 1.0)"
      ]
     },
     "execution_count": 10,
     "metadata": {},
     "output_type": "execute_result"
    },
    {
     "data": {
      "text/plain": [
       "(0.0, 1.05)"
      ]
     },
     "execution_count": 10,
     "metadata": {},
     "output_type": "execute_result"
    },
    {
     "data": {
      "text/plain": [
       "Text(0.5, 0, 'False Positive Rate')"
      ]
     },
     "execution_count": 10,
     "metadata": {},
     "output_type": "execute_result"
    },
    {
     "data": {
      "text/plain": [
       "Text(0, 0.5, 'True Positive Rate')"
      ]
     },
     "execution_count": 10,
     "metadata": {},
     "output_type": "execute_result"
    },
    {
     "data": {
      "text/plain": [
       "Text(0.5, 1.0, 'Receiver operating characteristic example')"
      ]
     },
     "execution_count": 10,
     "metadata": {},
     "output_type": "execute_result"
    },
    {
     "data": {
      "text/plain": [
       "<matplotlib.legend.Legend at 0x7f0ce4432908>"
      ]
     },
     "execution_count": 10,
     "metadata": {},
     "output_type": "execute_result"
    },
    {
     "data": {
      "image/png": "[encoded data removed]",
      "text/plain": [
       "<Figure size 432x288 with 1 Axes>"
      ]
     },
     "metadata": {
      "needs_background": "light"
     },
     "output_type": "display_data"
    },
    {
     "data": {
      "text/plain": [
       "<Figure size 432x288 with 0 Axes>"
      ]
     },
     "execution_count": 10,
     "metadata": {},
     "output_type": "execute_result"
    },
    {
     "data": {
      "text/plain": [
       "[<matplotlib.lines.Line2D at 0x7f0ce43a3860>]"
      ]
     },
     "execution_count": 10,
     "metadata": {},
     "output_type": "execute_result"
    },
    {
     "data": {
      "text/plain": [
       "[<matplotlib.lines.Line2D at 0x7f0ce43a39e8>]"
      ]
     },
     "execution_count": 10,
     "metadata": {},
     "output_type": "execute_result"
    },
    {
     "data": {
      "text/plain": [
       "(0.0, 1.0)"
      ]
     },
     "execution_count": 10,
     "metadata": {},
     "output_type": "execute_result"
    },
    {
     "data": {
      "text/plain": [
       "(0.0, 1.05)"
      ]
     },
     "execution_count": 10,
     "metadata": {},
     "output_type": "execute_result"
    },
    {
     "data": {
      "text/plain": [
       "Text(0.5, 0, 'False Positive Rate')"
      ]
     },
     "execution_count": 10,
     "metadata": {},
     "output_type": "execute_result"
    },
    {
     "data": {
      "text/plain": [
       "Text(0, 0.5, 'True Positive Rate')"
      ]
     },
     "execution_count": 10,
     "metadata": {},
     "output_type": "execute_result"
    },
    {
     "data": {
      "text/plain": [
       "Text(0.5, 1.0, 'Receiver operating characteristic example')"
      ]
     },
     "execution_count": 10,
     "metadata": {},
     "output_type": "execute_result"
    },
    {
     "data": {
      "text/plain": [
       "<matplotlib.legend.Legend at 0x7f0ce4392400>"
      ]
     },
     "execution_count": 10,
     "metadata": {},
     "output_type": "execute_result"
    },
    {
     "data": {
      "image/png": "[encoded data removed]",
      "text/plain": [
       "<Figure size 432x288 with 1 Axes>"
      ]
     },
     "metadata": {
      "needs_background": "light"
     },
     "output_type": "display_data"
    }
   ],
   "source": [
    "# Plot of a ROC curve for a specific class\n",
    "for i in range(n_classes):\n",
    "    plt.figure();\n",
    "    plt.plot(fpr[i], tpr[i], label='ROC curve (area = %0.2f)' % roc_auc[i])\n",
    "    plt.plot([0, 1], [0, 1], 'k--')\n",
    "    plt.xlim([0.0, 1.0])\n",
    "    plt.ylim([0.0, 1.05])\n",
    "    plt.xlabel('False Positive Rate')\n",
    "    plt.ylabel('True Positive Rate')\n",
    "    plt.title('Receiver operating characteristic example')\n",
    "    plt.legend(loc=\"lower right\")\n",
    "    plt.show();"
   ]
  },
  {
   "cell_type": "markdown",
   "metadata": {},
   "source": [
    "# Quadratic Weighted Kappa\n",
    "\n",
    "The below explanation will correspond to my [notebook during the PANDAS competition](https://www.kaggle.com/reighns/understanding-the-quadratic-weighted-kappa/)."
   ]
  },
  {
   "cell_type": "markdown",
   "metadata": {},
   "source": [
    " ## Table of Contents\n",
    "1. [Intuition of QWK](#intuition)\n",
    "2. [Step 1: Create the NxN histogram matrix O](#confusion) <br>\n",
    "3. [Step 2: Create the Weighted Matrix w](#weighted)<br>\n",
    "4. [Step 3: Create the Expected Matrix](#expected) <br>\n",
    "5. [Step 4: Final Step: Weighted Kappa formula and Its python codes](#qwk) \n",
    "\n",
    "    "
   ]
  },
  {
   "cell_type": "markdown",
   "metadata": {},
   "source": [
    "## **Intuition of QWK** <a id=\"intuition\"></a> <a id=\"intuition\"></a>\n",
    "\n",
    "TLDR: one can skip to the last section on the python code implementation of QWK and also take reference to [CPMP's Fast QWK Computation](https://www.kaggle.com/c/prostate-cancer-grade-assessment/discussion/145105) as well.\n",
    "\n",
    "Kappa or Cohen’s Kappa is like classification accuracy, except that it is normalized at the baseline of random chance on your dataset: It basically tells you how much better your classifier is performing over the performance of a classifier that simply guesses at random according to the frequency of each class."
   ]
  },
  {
   "cell_type": "markdown",
   "metadata": {},
   "source": [
    "First off, we define the formula exactly as mentioned. Quoting from the evaluation page: **Submissions are scored based on the quadratic weighted kappa, which measures the agreement between two outcomes. This metric typically varies from 0 (random agreement) to 1 (complete agreement). In the event that there is less agreement than expected by chance, the metric may go below 0.** \n",
    "\n",
    "**The quadratic weighted kappa is calculated as follows. First, an N x N histogram matrix O is constructed, such that $O_{i,j}$ corresponds to the number of `isup_grade`'s i (actual) that received a predicted value j. An N-by-N matrix of weights, w, is calculated based on the difference between actual and predicted values:**\n",
    "\n",
    "$$w_{i,j} = \\dfrac{(i-j)^2}{(N-1)^2}$$\n",
    "\n",
    "<br>\n",
    "\n",
    "**An N-by-N histogram matrix of expected outcomes, E, is calculated assuming that there is** ***no correlation*** **between values.This is calculated as the outer product between the actual histogram vector of outcomes and the predicted histogram vector, normalized such that E and O have the same sum. **\n",
    "\n",
    "<br>\n",
    "\n",
    "Finally, from these three matrices, the quadratic weighted kappa is calculated as:\n",
    "\n",
    "\n",
    "$$\\kappa = 1 - \\dfrac{\\sum_{i,j}\\text{w}_{i,j}O_{i,j}}{\\sum_{i,j}\\text{w}_{i,j}E_{i,j}}$$\n",
    "\n",
    "where $w$ is the weighted matrix, $O$ is the histogram matrix and $E$ being the expected matrix."
   ]
  },
  {
   "cell_type": "markdown",
   "metadata": {},
   "source": [
    "## **Step 1: Create the NxN histogram matrix O** <a id=\"confusion\"></a>"
   ]
  },
  {
   "cell_type": "markdown",
   "metadata": {},
   "source": [
    "***Warning: This is a counter example to the wrong usage of Quadratic Weighted Kappa. We shall see why soon.***\n",
    "\n",
    "***Warning: This is a counter example to the wrong usage of Quadratic Weighted Kappa. We shall see why soon.***\n",
    "\n",
    "***Warning: This is a counter example to the wrong usage of Quadratic Weighted Kappa. We shall see why soon.***\n",
    "\n",
    "<br>\n",
    "\n",
    "***Reminder: Although it is a counter example, it still illustrates what a NxN histogram matrix is! We will now call our histogram matrix C instead because in actual fact, the histogram matrix is merely a multi class confusion matrix between actual and predicted values***"
   ]
  },
  {
   "cell_type": "markdown",
   "metadata": {},
   "source": [
    "We use a naive example where there are 5 classes (note our competition is_up grade has 6 classes; but this is just an example. Our `y_true` is the ground truth labels and correspondingly, our `y_pred` is the predicted values."
   ]
  },
  {
   "cell_type": "code",
   "execution_count": 11,
   "metadata": {
    "ExecuteTime": {
     "end_time": "2020-04-22T04:15:51.378798Z",
     "start_time": "2020-04-22T04:15:51.372814Z"
    }
   },
   "outputs": [
    {
     "name": "stdout",
     "output_type": "stream",
     "text": [
      "Ground truth:\n",
      "0    cat\n",
      "1    cat\n",
      "2    dog\n",
      "3    cat\n",
      "4    cat\n",
      "5    cat\n",
      "6    pig\n",
      "7    pig\n",
      "8    hen\n",
      "9    pig\n",
      "Name: Actual, dtype: object\n",
      "----------------------------------------\n",
      "Predicted Values:\n",
      "0    bird\n",
      "1     hen\n",
      "2     pig\n",
      "3    bird\n",
      "4    bird\n",
      "5    bird\n",
      "6     pig\n",
      "7     pig\n",
      "8     hen\n",
      "9     pig\n",
      "Name: Predicted, dtype: object\n"
     ]
    }
   ],
   "source": [
    "y_true = pd.Series(['cat',  'cat', 'dog', 'cat',   'cat',  'cat', 'pig',  'pig', 'hen', 'pig'], name = 'Actual')\n",
    "y_pred   = pd.Series(['bird', 'hen', 'pig','bird',  'bird', 'bird', 'pig', 'pig', 'hen', 'pig'], name = 'Predicted')\n",
    "\n",
    "print(\"Ground truth:\\n{}\".format(y_true))\n",
    "print(\"-\"*40)\n",
    "print(\"Predicted Values:\\n{}\".format(y_pred))"
   ]
  },
  {
   "cell_type": "markdown",
   "metadata": {},
   "source": [
    "First, an N x N confusion matrix **C** is constructed, such that $\\text{C}_{i,j}$ is the entry that corresponds to the **number of animal i (actual) that received a predicted value j**. "
   ]
  },
  {
   "cell_type": "code",
   "execution_count": 12,
   "metadata": {
    "ExecuteTime": {
     "end_time": "2020-04-22T04:17:36.46162Z",
     "start_time": "2020-04-22T04:17:36.288531Z"
    }
   },
   "outputs": [
    {
     "data": {
      "text/plain": [
       "<Figure size 432x288 with 0 Axes>"
      ]
     },
     "execution_count": 12,
     "metadata": {},
     "output_type": "execute_result"
    },
    {
     "name": "stdout",
     "output_type": "stream",
     "text": [
      "Confusion matrix, without normalization\n"
     ]
    },
    {
     "data": {
      "image/png": "[encoded data removed]",
      "text/plain": [
       "<Figure size 432x288 with 2 Axes>"
      ]
     },
     "metadata": {
      "needs_background": "light"
     },
     "output_type": "display_data"
    }
   ],
   "source": [
    "classes= ['bird','cat','dog','hen', 'pig']\n",
    "\n",
    "# thank you https://datascience.stackexchange.com/questions/40067/confusion-matrix-three-classes-python \n",
    "def plot_confusion_matrix(cm, classes,\n",
    "                          normalize=False,\n",
    "                          title='Confusion matrix',\n",
    "                          cmap=plt.cm.Blues):\n",
    "    \"\"\"\n",
    "    This function prints and plots the confusion matrix.\n",
    "    Normalization can be applied by setting `normalize=True`.\n",
    "    \"\"\"\n",
    "    \n",
    "    if normalize:\n",
    "        cm = cm.astype('float') / cm.sum(axis=1)[:, np.newaxis]\n",
    "        print(\"Normalized confusion matrix\")\n",
    "    else:\n",
    "        print('Confusion matrix, without normalization')\n",
    "\n",
    "    plt.imshow(cm, interpolation='nearest', cmap=cmap)\n",
    "    plt.title(title)\n",
    "    plt.colorbar()\n",
    "    tick_marks = np.arange(len(classes))\n",
    "    plt.xticks(tick_marks, classes, rotation=45)\n",
    "    plt.yticks(tick_marks, classes)\n",
    "\n",
    "    fmt = '.2f' if normalize else 'd'\n",
    "    thresh = cm.max() / 2.\n",
    "    for i, j in itertools.product(range(cm.shape[0]), range(cm.shape[1])):\n",
    "        plt.text(j, i, format(cm[i, j], fmt),\n",
    "                 horizontalalignment=\"center\",\n",
    "                 color=\"white\" if cm[i, j] > thresh else \"black\")\n",
    "\n",
    "    plt.ylabel('True label')\n",
    "    plt.xlabel('Predicted label')\n",
    "    plt.tight_layout()\n",
    "    \n",
    "cnf_matrix = confusion_matrix(y_true, y_pred,labels=['bird','cat','dog','hen', 'pig'],)\n",
    "np.set_printoptions(precision=2)\n",
    "\n",
    "# Plot non-normalized confusion matrix\n",
    "plt.figure()\n",
    "plot_confusion_matrix(cnf_matrix, classes=['bird','cat','dog','hen', 'pig'],\n",
    "                      title='Confusion matrix C, without normalization')"
   ]
  },
  {
   "cell_type": "markdown",
   "metadata": {},
   "source": [
    "### Example using our competition's dataset"
   ]
  },
  {
   "cell_type": "markdown",
   "metadata": {},
   "source": [
    "The above matrix is a **multi class confusion matrix**. As an example, for the 2nd row, we predicted 4 cats to be birds, and 1 cat to be predicted as hen. More compactly, it can be represented as the matrix $C_{2,1}$ = 4."
   ]
  },
  {
   "cell_type": "markdown",
   "metadata": {},
   "source": [
    "We can easily reconcile our example above to relate back to our competition: **After the biopsy is assigned a Gleason score, it is converted into an ISUP grade on a 1-5 scale**. For now, I will include the label **0** because it is the background/non-tissue. \n",
    "\n",
    "What I do next is to take the ground truth and call it `y_true` which is a series. I then generate a dummy `y_pred` by using `np.random.choice` and randomly generate numbers from 0 to 5."
   ]
  },
  {
   "cell_type": "code",
   "execution_count": 13,
   "metadata": {
    "ExecuteTime": {
     "end_time": "2020-04-22T04:43:40.584317Z",
     "start_time": "2020-04-22T04:43:40.566357Z"
    }
   },
   "outputs": [
    {
     "data": {
      "text/plain": [
       "0        0\n",
       "1        0\n",
       "2        4\n",
       "3        4\n",
       "4        0\n",
       "        ..\n",
       "10611    0\n",
       "10612    5\n",
       "10613    0\n",
       "10614    2\n",
       "10615    4\n",
       "Name: isup_grade, Length: 10616, dtype: int64"
      ]
     },
     "execution_count": 13,
     "metadata": {},
     "output_type": "execute_result"
    },
    {
     "data": {
      "text/plain": [
       "0        5\n",
       "1        4\n",
       "2        2\n",
       "3        1\n",
       "4        0\n",
       "        ..\n",
       "10611    5\n",
       "10612    0\n",
       "10613    4\n",
       "10614    0\n",
       "10615    0\n",
       "Length: 10616, dtype: int64"
      ]
     },
     "execution_count": 13,
     "metadata": {},
     "output_type": "execute_result"
    }
   ],
   "source": [
    "train = pd.read_csv(\"/kaggle/input/prostate-cancer-grade-assessment/train.csv\")\n",
    "y_true = train.isup_grade\n",
    "y_true\n",
    "\n",
    "y_pred = np.random.choice(6, 10616, replace=True)\n",
    "y_pred = pd.Series(y_pred)\n",
    "y_pred"
   ]
  },
  {
   "cell_type": "markdown",
   "metadata": {},
   "source": [
    "The following confusion matrix, is what we mean by the \"N by N\" (6 by 6) **histogram matrix**. "
   ]
  },
  {
   "cell_type": "code",
   "execution_count": 14,
   "metadata": {
    "ExecuteTime": {
     "end_time": "2020-04-22T04:43:43.243947Z",
     "start_time": "2020-04-22T04:43:42.998584Z"
    }
   },
   "outputs": [
    {
     "name": "stdout",
     "output_type": "stream",
     "text": [
      "Confusion matrix, without normalization\n"
     ]
    },
    {
     "data": {
      "image/png": "[encoded data removed]",
      "text/plain": [
       "<Figure size 432x288 with 2 Axes>"
      ]
     },
     "metadata": {
      "needs_background": "light"
     },
     "output_type": "display_data"
    }
   ],
   "source": [
    "cm = confusion_matrix(y_true, y_pred,labels=[0,1,2,3,4,5],)\n",
    "plot_confusion_matrix(cm, classes=[0,1,2,3,4,5],\n",
    "                      title='Confusion matrix C, without normalization')"
   ]
  },
  {
   "cell_type": "markdown",
   "metadata": {},
   "source": [
    "***So far we have settled the first portion, construction the histogram matrix.***"
   ]
  },
  {
   "cell_type": "markdown",
   "metadata": {},
   "source": [
    "## **Step 2: Create the Weighted Matrix w** <a id =\"weighted\"></a>"
   ]
  },
  {
   "cell_type": "markdown",
   "metadata": {},
   "source": [
    "An N-by-N matrix of weights, w, is calculated based on the difference between actual and predicted rating scores. The formula is as follows:  $$w_{i,j} = \\dfrac{(i-j)^2}{(N-1)^2}$$\n",
    "\n",
    "\n",
    "Under Step-2, each element is weighted. Predictions that are further away from actuals are marked harshly than predictions that are closer to actuals. However, I suddenly realized that these animals above have no obvious hierarchy in them. Therefore, it is not correct to say that predicting a cat as a bird is any better/worse off than predicting a cat as hen.\n",
    "\n",
    "**Consequently, this is a realization. Because now I start to understand why certain competitions use metrics like quadratic weighted kappa!** Consider the same example as animals just now, but instead of animals, we change to **isup_grade**). So there is an inherent order within the **isup_grade** 0 - 5 such that 0 and 1 is closer than 0 and 2, 1 and 2 is closer to 1 and 3 etc. $$0 > 1 > 2 > 3 > 4 > 5$$\n",
    "\n",
    "<br>\n",
    "\n",
    "For example, let's use a simplified example:\n",
    "\n",
    "    y_true = [2,2,2,1,2,3,4,5,0,1]\n",
    "    y_pred = [1,2,4,1,2,3,4,5,0,1]\n",
    "    \n",
    "As a result, our purpose of the weighted matrix is to allocate a higher penalty score if our prediction is further away from the actual value. That is, if our **isup_grade** is 2 but we predicted it as 1 (see the example), then based on our formula above, we have i = 2 and j = 1 (entry $C_{2,1}$), the penalty is $$\\dfrac{(2-1)^2}{(5-1)^2}  = 0.0625$$ but if our **isup_grade** is 2 and we predicted it as 4 (see the example), then the penalty involved is higher $$\\dfrac{(2-4)^2}{(5-1)^2} = 0.25$$\n",
    "\n",
    "Indeed, the weight matrix helped us assign a heavier penalty to predicting 2 as 4 than 2 as 1.\n",
    "\n",
    "***Lastly, we also observe that the formula will give us 0 for the diagonals of the weighted matrix. This means penalty is 0 whenever we correctly predict something.***"
   ]
  },
  {
   "cell_type": "markdown",
   "metadata": {},
   "source": [
    "To calculate weighted matrix in python code, here is the code with reference to [Aman Arora](https://www.kaggle.com/aroraaman/quadratic-kappa-metric-explained-in-5-simple-steps)."
   ]
  },
  {
   "cell_type": "code",
   "execution_count": 15,
   "metadata": {
    "ExecuteTime": {
     "end_time": "2020-04-22T05:08:16.156024Z",
     "start_time": "2020-04-22T05:08:16.152037Z"
    }
   },
   "outputs": [
    {
     "name": "stdout",
     "output_type": "stream",
     "text": [
      "[[0.   0.06 0.25 0.56 1.  ]\n",
      " [0.06 0.   0.06 0.25 0.56]\n",
      " [0.25 0.06 0.   0.06 0.25]\n",
      " [0.56 0.25 0.06 0.   0.06]\n",
      " [1.   0.56 0.25 0.06 0.  ]]\n"
     ]
    }
   ],
   "source": [
    "# We construct the weighted matrix starting from a zero matrix, it is like constructing a \n",
    "# list, we usually start from an empty list and add things inside using loops.\n",
    "\n",
    "def weighted_matrix(N):\n",
    "    weighted = np.zeros((N,N)) \n",
    "    for i in range(len(weighted)):\n",
    "        for j in range(len(weighted)):\n",
    "            weighted[i][j] = float(((i-j)**2)/(N-1)**2) \n",
    "    return weighted\n",
    "        \n",
    "print(weighted_matrix(5))"
   ]
  },
  {
   "cell_type": "markdown",
   "metadata": {},
   "source": [
    "***Remember, the further away from the diagonal you get, the worse off is your prediction and it will be penalized harder by a bigger weight.***  As you can easily infer from the weighted matrix above, we use the first row as an example in case one did not understand. Basically, the weighted matrix's first row's first element is 0, because it means we predicted correctly and no penalty is meted out; but as we move further to the left, you can see that the punishment gets harsher and harsher: $$0 < 0.06 < 0.25 < 0.56 < 1$$"
   ]
  },
  {
   "cell_type": "markdown",
   "metadata": {},
   "source": [
    "## **Step 3: Create the Expected Matrix** <a id =\"expected\"></a>"
   ]
  },
  {
   "cell_type": "code",
   "execution_count": 16,
   "metadata": {
    "ExecuteTime": {
     "end_time": "2020-04-21T17:19:43.669296Z",
     "start_time": "2020-04-21T17:19:43.664309Z"
    }
   },
   "outputs": [
    {
     "name": "stdout",
     "output_type": "stream",
     "text": [
      "Actuals value counts:[0. 3. 1. 1. 5.], \n",
      "Prediction value counts:[4. 4. 2. 0. 0.]\n"
     ]
    }
   ],
   "source": [
    "## dummy example \n",
    "actual = pd.Series([2,2,2,3,4,5,5,5,5,5]) \n",
    "pred   = pd.Series([2,2,2,3,2,1,1,1,1,3]) \n",
    "C = confusion_matrix(actual, pred)\n",
    "\n",
    "N=5\n",
    "act_hist=np.zeros([N])\n",
    "for item in actual: \n",
    "    act_hist[item - 1]+=1\n",
    "    \n",
    "pred_hist=np.zeros([N])\n",
    "for item in pred: \n",
    "    pred_hist[item - 1]+=1\n",
    "    \n",
    "\n",
    "print(f'Actuals value counts:{act_hist}, \\nPrediction value counts:{pred_hist}')"
   ]
  },
  {
   "cell_type": "markdown",
   "metadata": {},
   "source": [
    "This part is the most difficult to understand, especially for someone who has little statistic backgrounds (mind you when I was majoring in applied math back then, I only took **one** statistic module in my whole tenure.) Googling the idea of expected matrix is not apparently clear to me, but luckily someone pointed to me to read expected frequency of Chi-Square test and then and, there I start to slowly understand.\n",
    "\n",
    "For the purpose of better understanding, we call our actual values to be rater A and our prediction model to be rater B. We want to quantify the agreement between rater A and rater B. Here are some terminologies to get hold of first.\n",
    "\n",
    "- There are a total number of $k = 5$ classes in this example;\n",
    "- There are a total number of $n = 10$ observations in this example;\n",
    "- Define Y to be the random variable that rater A has chosen (aka our actual classes 1,2,3,4,5);\n",
    "- and $\\widehat{Y}$ be the random variable that rater $B$ has chosen (aka our predicted classes 1,2,3,4,5 by rater B)\n",
    "- $r_i$ be the i-th entry of the column vector for actual value counts shown above, $c_i$ be the i-th entry of the column vector for prediction value counts shown above.\n",
    "<br>\n",
    "\n",
    "Then the probability of rater A choosing class 2 and rater B choosing class 2 for example, is given by $$P(Y = 2 \\text{ and } \\widehat{Y} = 2)  = P(Y = 2) \\cdot P(\\widehat{Y} = 2) = 30\\% \\times 40\\%  = 12\\%$$\n",
    "\n",
    "This is under the assumption that both raters are **independent of each other**. Note that $P(Y = 2) = 30\\%$ because as we see from the actual value counts of rater $A$, there are a total of 3 class 2's and therefore the probability of Y being 2 is just the proportion. Similarly, we calculate $\\widehat{Y}$ the same way.\n",
    "\n",
    "In general, the formula of rater A choosing class i and rater B choosing (predicting) class j is given as follows: $$P(Y = i \\text{ and }  \\widehat{Y} = j) =  P(Y = i) \\times P (\\widehat{Y} = j)$$\n",
    "\n",
    "<br>\n",
    "\n",
    "\n",
    "Now the real question comes: On average, if you have $n$ number of points to predict, how many times (what is the frequency) would you **expect** to see rater A choose class i and rater B choose class j.\n",
    "\n",
    "To reiterate, recall that the probability of the actual class being 1 **and (super important word here, it means a joint distribution)** and the predicted class to be 1 as well is $P(Y = 1 \\text{ and }  \\widehat{Y} = 1)$, similarly, the probability of the actual class being 1 and the predicted class to be 2 is $P(Y = 1 \\text{ and }  \\widehat{Y} = 2)$. Generalizing, the probability of the actual class being $i$ and the predicted class being $j$ is the joint probability $$P(Y = i \\text{ and }  \\widehat{Y} = j)$$\n",
    "\n",
    "So the intuition lies here: based on the joint probability above, what is the expected number of times (frequency) that $Y = i$ and $\\widehat{Y} = j$ happened (this means Y is i but rater B predict $\\widehat{Y}$ as j) out of 10 times? Easy, just use $n \\times P(Y = i \\text{ and }  \\widehat{Y} = j)$. So for rater B, our prediction model, **by just using theoretical probability**, should have $n \\times P(Y = i \\text{ and }  \\widehat{Y} = j)$ for each $i,j$. But in reality, this may not be the case. Reconcile this idea with the classic coin toss example:\n",
    "\n",
    "- **Example on coin toss:** Expected frequency is defined as the number of times that we predict an event will occur based on a calculation using theoretical probabilities. You know how a coin has two sides, heads or tails? That means that the probability of the coin landing on any one side is 50% (or 1/2, because it can land on one side out of two possible sides). If you flip a coin 1,000 times, how many times would you expect to get heads? About half the time, or 500 out of the 1,000 flips. To calculate the expected frequency, all we need to do is multiply the total number of tosses (1,000) by the probability of getting a heads (1/2), and we get 1,000 * 1/2 = 500 heads. if event A has prob of p happening, and sample size of n, then the average or expected number of times that A happens is $np$. The expected frequency of heads is 500 out of 1,000 total tosses. The expected frequency is based on our knowledge of probability - we haven't actually done any coin tossing. However, if we had enough time on our hands, we could actually flip a coin 1,000 times to experimentally test our prediction. If we did this, we would be calculating the experimental frequency. The experimental frequency is defined as the number of times that we observe an event to occur when we actually perform an experiment, test, or trial in real life. If you flipped a coin 1,000 times and it landed on heads 479 times, then the experimental frequency of heads is 479.\n",
    "\n",
    "    But wait - didn't we predict the coin would land on heads 500 times? Why did it actually land on heads only 479 times? Well, the expected frequency was just that - what we expected to happen, based on our knowledge of probability. There are no guarantees when it comes to probability, what we expect to happen might differ from what actually happens. \n",
    "\n",
    "<br>\n",
    "\n",
    "Since we know $$E_{2,2} = 10 \\times P(Y = 2 \\text{ and } \\widehat{Y} = 2)  = 10 \\times P(Y = 2) \\cdot P(\\widehat{Y} = 2) = 10 \\times 30\\% \\times 40\\%  = 1.2$$\n",
    "\n",
    "This $E_{2,2}$ means that we only expect the rater A to choose 2 and rater B to choose 2 at the same time only 1.2 times out of 10 times. In other words, our predicted model classify 2 as 2 1.2 times. However, from our observations in our matrix C (confusion/histogram matrix), rater A choosing 2 and rater B choosing 2 have a frequency of 3! In other words, our predicted model classified 2 as 2 three times! So we kinda exceeded expectation for this particular configuration.\n",
    "\n",
    "$$C = \\begin{bmatrix}\n",
    "0 & 0 & 0 & 0 & 0\\\\\n",
    "0 & 3 & 0 & 0 & 0 \\\\\n",
    "0 & 0 & 1 & 0 & 0\\\\\n",
    "0 & 1 & 0 & 0 & 0\\\\\n",
    "4 & 0 & 1 & 0 & 0\\\\\n",
    "\\end{bmatrix}$$\n",
    "\n",
    "Let me give you one more example, $$E_{5,2} = 10 \\times P(Y = 5 \\text{ and } \\widehat{Y} = 2) = 10 \\times P(Y = 5) \\cdot P(\\widehat{Y} = 2) = 10 \\times 50\\% \\times 40\\%  = 2$$\n",
    "\n",
    "This means that we only expect the rater A to choose 5 and rater B to choose 2 at the same time only 2 times out of 10 times! But in reality, our observations say that our rater B classified 5 as 2 zero times! \n",
    "\n",
    "\n",
    "We calculate $E_{i,j}$ given by the formula: $$E_{i,j} = n \\times P(Y = i \\text{ and }  \\widehat{Y} = j) = n \\times P(Y = i) \\times P (\\widehat{Y} = j) = n \\times \\dfrac{r_i}{n} \\times \\dfrac{c_j}{n}$$\n",
    "\n",
    "$$E = \\begin{bmatrix}\n",
    "0 & 0 & 0 & 0 & 0\\\\\n",
    "1.2 & 1.2 & 0.6 & 0 & 0 \\\\\n",
    "0.4 & 0.4 & 0.2 & 0 & 0\\\\\n",
    "0.4 & 0.4 & 0.2 & 0 & 0\\\\\n",
    "2 & 2 & 1 & 0 & 0\\\\\n",
    "\\end{bmatrix}$$\n",
    "\n",
    "Note $r_i \\times c_j$ is the $(i,j)$ entry of the outer product between the actual histogram vector of outcomes (actual value counts) and the predicted histogram vector (prediction value counts)."
   ]
  },
  {
   "cell_type": "markdown",
   "metadata": {},
   "source": [
    "What does the random chance mean here? Simple, it just means that the probability for rater A (actual) to be class i AND for rater B (predicted) to be class j is $p\\%$ (say 10%). Therefore, if we have made 100 predictions, random chance aka the theoratical probability tells us you should only have $100 \\times 10\\% = 10$ predictions to be of this configuration (rater A class i AND rater B class j)."
   ]
  },
  {
   "cell_type": "markdown",
   "metadata": {},
   "source": [
    "#### Writing out the expected matrix in python\n",
    "\n",
    "So to get the expected matrix, E, is calculated assuming that there is no correlation between values.  This is calculated as the outer product between the actual histogram vector of outcomes and the predicted histogram vector, normalized such that E and C have the same sum. Note carefully below that we do not need to normalize both, we just need to normalize E to the same sum as C."
   ]
  },
  {
   "cell_type": "code",
   "execution_count": 17,
   "metadata": {
    "ExecuteTime": {
     "end_time": "2020-04-21T17:19:43.752074Z",
     "start_time": "2020-04-21T17:19:43.74609Z"
    }
   },
   "outputs": [
    {
     "data": {
      "text/plain": [
       "array([[0. , 0. , 0. , 0. , 0. ],\n",
       "       [1.2, 1.2, 0.6, 0. , 0. ],\n",
       "       [0.4, 0.4, 0.2, 0. , 0. ],\n",
       "       [0.4, 0.4, 0.2, 0. , 0. ],\n",
       "       [2. , 2. , 1. , 0. , 0. ]])"
      ]
     },
     "execution_count": 17,
     "metadata": {},
     "output_type": "execute_result"
    },
    {
     "data": {
      "text/plain": [
       "array([[0, 0, 0, 0, 0],\n",
       "       [0, 3, 0, 0, 0],\n",
       "       [0, 0, 1, 0, 0],\n",
       "       [0, 1, 0, 0, 0],\n",
       "       [4, 0, 1, 0, 0]])"
      ]
     },
     "execution_count": 17,
     "metadata": {},
     "output_type": "execute_result"
    }
   ],
   "source": [
    "E = np.outer(act_hist, pred_hist)/10\n",
    "\n",
    "\n",
    "E\n",
    "C"
   ]
  },
  {
   "cell_type": "markdown",
   "metadata": {},
   "source": [
    "## **Step 4: Final Step: Weighted Kappa formula and Its python codes** <a id=\"qwk\"></a>\n",
    " \n",
    "From these three matrices: E, C and weighted, the quadratic weighted kappa is calculated as: \n",
    "\n",
    "$$\\kappa = 1 - \\dfrac{\\sum_{i,j}\\text{weighted}_{i,j}C_{i,j}}{\\sum_{i,j}\\text{weighted}_{i,j}E_{i,j}}$$\n",
    "\n",
    "Note that a higher value generally means your prediction model is way better than a random model, but there is no consensus on which value is really good or bad."
   ]
  },
  {
   "cell_type": "markdown",
   "metadata": {},
   "source": [
    "$$\\text{Weighted} = \\begin{bmatrix}\n",
    "0 & 0.0625 & 0.25 & 0.5625 & 1\\\\\n",
    "0.0625 & 0 & 0.0625 & 0.25 & 0.5625 \\\\\n",
    "0.25 & 0.0625 & 0 & 0.0625 & 0.25\\\\\n",
    "0.5625 & 0.25 & 0.0625 & 0 & 0.0625\\\\\n",
    "1 & 0.5625 & 0.25 & 0.0625 & 0\\\\\n",
    "\\end{bmatrix}$$"
   ]
  },
  {
   "cell_type": "markdown",
   "metadata": {},
   "source": [
    "The notation $\\sum_{i,j}\\text{W}_{i,j}C_{i,j}$ is just $$\\sum_{i=1}^{k}\\sum_{j=1}^{k} W_{i,j} C_{i,j} = (W_{1,1}C_{1,1} + W_{1,2}C_{1,2} + ...+ W_{1,k}C_{1,k}) + (W_{2,1}C_{2,1}+...+W_{2,k}C_{2,k}) +...+(W_{k,1}C_{k,1}+...+W_{k,k}C_{k,k})$$\n",
    "\n",
    "To put our understanding into perspective, consider just one entry $W_{5,1}C_{5,1} = 1 \\times 4 = 4$. This roughly means that our predicted model classified class 5 as class 1 FOUR times (re: $C_{5,1} = 4$), and since class 5 is so far away from class 1, we need to **punish** this wrong prediction more than the others. And we did see that the corresponding weight $W_{5,1} = 1$ is the highest weight.\n",
    "\n",
    "Consequently, the numerator being $\\sum_{i,j}\\text{W}_{i,j}C_{i,j}$ calculates the total \"penalty cost\" for the rater A (our predicted model), and similarly, $\\sum_{i,j}\\text{W}_{i,j}E_{i,j}$ calculates the total \"penalty cost\" for the rater B (our \"expected\" model). Therefore, you can think both values (num and den) as a cost function, and the lesser the better. And kappa formula tells us, if our $\\sum_{i,j}\\text{W}_{i,j}C_{i,j}$ is significantly smaller than $\\sum_{i,j}\\text{W}_{i,j}E_{i,j}$, this will yield a very small value of $$\\dfrac{\\sum_{i,j}\\text{weighted}_{i,j}C_{i,j}}{\\sum_{i,j}\\text{weighted}_{i,j}E_{i,j}}$$ which will yield a very high kappa value - signifying a better model."
   ]
  },
  {
   "cell_type": "code",
   "execution_count": 18,
   "metadata": {
    "ExecuteTime": {
     "end_time": "2020-04-21T17:19:43.798949Z",
     "start_time": "2020-04-21T17:19:43.793962Z"
    }
   },
   "outputs": [
    {
     "data": {
      "text/plain": [
       "-0.13924050632911378"
      ]
     },
     "execution_count": 18,
     "metadata": {},
     "output_type": "execute_result"
    }
   ],
   "source": [
    "# Method 1\n",
    "# apply the weights to the confusion matrix\n",
    "weighted = weighted_matrix(5)\n",
    "num = np.sum(np.multiply(weighted, C))\n",
    "# apply the weights to the histograms\n",
    "den = np.sum(np.multiply(weighted, E))\n",
    "\n",
    "kappa = 1-np.divide(num,den)\n",
    "kappa"
   ]
  },
  {
   "cell_type": "code",
   "execution_count": 19,
   "metadata": {
    "ExecuteTime": {
     "end_time": "2020-04-21T17:19:43.80593Z",
     "start_time": "2020-04-21T17:19:43.799946Z"
    }
   },
   "outputs": [
    {
     "data": {
      "text/plain": [
       "-0.13924050632911378"
      ]
     },
     "execution_count": 19,
     "metadata": {},
     "output_type": "execute_result"
    }
   ],
   "source": [
    "# Method 2\n",
    "\n",
    "num=0\n",
    "den=0\n",
    "for i in range(len(weighted)):\n",
    "    for j in range(len(weighted)):\n",
    "        num+=weighted[i][j]*C[i][j]\n",
    "        den+=weighted[i][j]*E[i][j]\n",
    "\n",
    "weighted_kappa = (1 - (num/den)); weighted_kappa"
   ]
  },
  {
   "cell_type": "code",
   "execution_count": 20,
   "metadata": {
    "ExecuteTime": {
     "end_time": "2020-04-21T17:19:43.812911Z",
     "start_time": "2020-04-21T17:19:43.806927Z"
    }
   },
   "outputs": [
    {
     "data": {
      "text/plain": [
       "-0.13924050632911378"
      ]
     },
     "execution_count": 20,
     "metadata": {},
     "output_type": "execute_result"
    }
   ],
   "source": [
    "# Method 3: Just use sk learn library\n",
    "\n",
    "cohen_kappa_score(actual, pred, labels=None, weights= 'quadratic', sample_weight=None)"
   ]
  },
  {
   "cell_type": "markdown",
   "metadata": {},
   "source": [
    "Just a side note that one can also use SK learn's cohen_kappa_score function calculate the quadratic weighted kappa in this competition, with weights set to quadratic. Also please do refer to [CPMP's discussion topic for fast QWK computation](https://www.kaggle.com/c/prostate-cancer-grade-assessment/discussion/145105)"
   ]
  },
  {
   "cell_type": "markdown",
   "metadata": {},
   "source": [
    "# References\n",
    "\n",
    "[Reference I](https://towardsdatascience.com/https-medium-com-abrown004-how-to-ease-the-pain-of-working-with-imbalanced-data-a7f7601f18ba)\n",
    "\n",
    "[Reference II](https://www.knime.com/blog/correcting-predicted-class-probabilities-in-imbalanced-datasets)\n",
    "\n",
    "[Reference III](https://towardsdatascience.com/handling-imbalanced-datasets-in-machine-learning-7a0e84220f28)\n",
    "\n",
    "- [Indicator Function](https://en.wikipedia.org/wiki/Indicator_function)\n",
    "- [Precision-Recall: Estimations of Probabilities](https://en.wikipedia.org/wiki/Precision_and_recall):"
   ]
  },
  {
   "cell_type": "code",
   "execution_count": null,
   "metadata": {},
   "outputs": [],
   "source": []
  }
 ],
 "metadata": {
  "kernelspec": {
   "display_name": "Python 3 (ipykernel)",
   "language": "python",
   "name": "python3"
  },
  "language_info": {
   "codemirror_mode": {
    "name": "ipython",
    "version": 3
   },
   "file_extension": ".py",
   "mimetype": "text/x-python",
   "name": "python",
   "nbconvert_exporter": "python",
   "pygments_lexer": "ipython3",
   "version": "3.9.7"
  }
 },
 "nbformat": 4,
 "nbformat_minor": 4
}
