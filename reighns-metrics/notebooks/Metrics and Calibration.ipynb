{
 "cells": [
  {
   "cell_type": "markdown",
   "id": "60fb17b1-2219-451a-9823-c90ee202a213",
   "metadata": {},
   "source": [
    "- [IMPORTANT: Google's take on calibrated models](https://www.unofficialgoogledatascience.com/2021/04/why-model-calibration-matters-and-how.html)\n",
    "- [IMPORTANT: WHAT IS CALIBRATION](https://statisticaloddsandends.wordpress.com/2020/10/07/what-is-calibration/)\n",
    "- [When and how to calibrate models](https://machinelearningmastery.com/calibrated-classification-model-in-scikit-learn/)\n",
    "- [scikit learn calibration](https://scikit-learn.org/stable/modules/calibration.html)\n",
    "- [Are you sure your models return probabilities?](https://towardsdatascience.com/calibrating-classifiers-559abc30711a)\n",
    "- [cambridge's probability calibration](https://blog.cambridgespark.com/probability-calibration-c7252ac123f)\n",
    "- [calibration in ML Terms](https://stats.stackexchange.com/questions/270508/meaning-of-model-calibration)\n",
    "- [Brier Score and Model Calibration - Neptune AI](https://neptune.ai/blog/brier-score-and-model-calibration)\n",
    "- [Hands on sklearn calibration](https://scikit-learn.org/stable/auto_examples/calibration/plot_calibration_curve.html)\n",
    "- [Hands on sklearn calibration v2](https://changhsinlee.com/python-calibration-plot/)\n",
    "- [Examples of scoring rules](https://stats.stackexchange.com/questions/339919/what-does-it-mean-that-auc-is-a-semi-proper-scoring-rule)\n",
    "- [Logistic Regression is well calibrated](https://stats.stackexchange.com/questions/390487/why-is-logistic-regression-well-calibrated-and-how-to-ruin-its-calibration)"
   ]
  }
 ],
 "metadata": {
  "kernelspec": {
   "display_name": "Python 3 (ipykernel)",
   "language": "python",
   "name": "python3"
  },
  "language_info": {
   "codemirror_mode": {
    "name": "ipython",
    "version": 3
   },
   "file_extension": ".py",
   "mimetype": "text/x-python",
   "name": "python",
   "nbconvert_exporter": "python",
   "pygments_lexer": "ipython3",
   "version": "3.9.7"
  }
 },
 "nbformat": 4,
 "nbformat_minor": 5
}
