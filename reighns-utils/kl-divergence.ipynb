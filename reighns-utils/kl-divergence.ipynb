{
 "cells": [
  {
   "cell_type": "markdown",
   "id": "323dcf0a",
   "metadata": {},
   "source": [
    ">  Classically, in Bayesian theory, there is some true distribution P(X) (our ground truth population distribution, say pretend we know our data is generated from a gaussian distibution of N(0,1)) and we have a model \n",
    "; we'd like to estimate with an approximate distribution Q(X), which in our case this Q(X) is derived from our model predictions. In this context, the KL divergence measures the distance from the approximate distribution to the true distribution. In simple terms, we use KL divergence as a form of loss function make our predictions as close to the ground truth as possible."
   ]
  },
  {
   "cell_type": "markdown",
   "id": "21309070",
   "metadata": {},
   "source": [
    "- [read this first](https://www.machinecurve.com/index.php/2019/12/21/how-to-use-kullback-leibler-divergence-kl-divergence-with-keras/)\n",
    "\n",
    "- [intuition-on-kl-divergence](https://towardsdatascience.com/light-on-math-machine-learning-intuitive-guide-to-understanding-kl-divergence-2b382ca2b2a8)\n",
    "\n",
    "- [math-proof-kl-divergence](https://dibyaghosh.com/blog/probability/kldivergence.html)\n",
    "\n",
    "- [machine-learning-mastery](https://machinelearningmastery.com/divergence-between-probability-distributions/)\n",
    "\n",
    "- [Applied AI](https://www.appliedaicourse.com/lecture/11/applied-machine-learning-online-course/4152/kl-divergence/4/module-4-machine-learning-ii-supervised-learning-models)"
   ]
  }
 ],
 "metadata": {
  "kernelspec": {
   "display_name": "Python 3 (ipykernel)",
   "language": "python",
   "name": "python3"
  },
  "language_info": {
   "codemirror_mode": {
    "name": "ipython",
    "version": 3
   },
   "file_extension": ".py",
   "mimetype": "text/x-python",
   "name": "python",
   "nbconvert_exporter": "python",
   "pygments_lexer": "ipython3",
   "version": "3.8.10"
  },
  "toc": {
   "base_numbering": 1,
   "nav_menu": {},
   "number_sections": true,
   "sideBar": true,
   "skip_h1_title": false,
   "title_cell": "Table of Contents",
   "title_sidebar": "Contents",
   "toc_cell": false,
   "toc_position": {},
   "toc_section_display": true,
   "toc_window_display": false
  }
 },
 "nbformat": 4,
 "nbformat_minor": 5
}
