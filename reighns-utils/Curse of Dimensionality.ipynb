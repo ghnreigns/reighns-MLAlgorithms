{
 "cells": [
  {
   "cell_type": "code",
   "execution_count": 1,
   "id": "bd82d721",
   "metadata": {},
   "outputs": [
    {
     "name": "stdout",
     "output_type": "stream",
     "text": [
      "1 dimensions:\n",
      "#   Generated 200 points\n",
      "#   Test point:  [0.]\n",
      "#   Average distance (STD) of test point to 200 samples: 0.532047 (0.288645)\n",
      "2 dimensions:\n",
      "#   Generated 200 points\n",
      "#   Test point:  [0. 0.]\n",
      "#   Average distance (STD) of test point to 200 samples: 0.734015 (0.310646)\n",
      "3 dimensions:\n",
      "#   Generated 200 points\n",
      "#   Test point:  [0. 0. 0.]\n",
      "#   Average distance (STD) of test point to 200 samples: 0.950556 (0.267487)\n",
      "4 dimensions:\n",
      "#   Generated 200 points\n",
      "#   Test point:  [0. 0. 0. 0.]\n",
      "#   Average distance (STD) of test point to 200 samples: 1.125468 (0.273186)\n",
      "8 dimensions:\n",
      "#   Generated 200 points\n",
      "#   Test point:  [0. 0. 0. 0. 0. 0. 0. 0.]\n",
      "#   Average distance (STD) of test point to 200 samples: 1.611063 (0.285338)\n",
      "10 dimensions:\n",
      "#   Generated 200 points\n",
      "#   Test point:  [0. 0. 0. 0. 0. 0. 0. 0. 0. 0.]\n",
      "#   Average distance (STD) of test point to 200 samples: 1.819651 (0.263804)\n",
      "100 dimensions:\n",
      "#   Generated 200 points\n",
      "#   Test point:  [0. 0. 0. 0. 0. 0. 0. 0. 0. 0. 0. 0. 0. 0. 0. 0. 0. 0. 0. 0. 0. 0. 0. 0.\n",
      " 0. 0. 0. 0. 0. 0. 0. 0. 0. 0. 0. 0. 0. 0. 0. 0. 0. 0. 0. 0. 0. 0. 0. 0.\n",
      " 0. 0. 0. 0. 0. 0. 0. 0. 0. 0. 0. 0. 0. 0. 0. 0. 0. 0. 0. 0. 0. 0. 0. 0.\n",
      " 0. 0. 0. 0. 0. 0. 0. 0. 0. 0. 0. 0. 0. 0. 0. 0. 0. 0. 0. 0. 0. 0. 0. 0.\n",
      " 0. 0. 0. 0.]\n",
      "#   Average distance (STD) of test point to 200 samples: 5.783088 (0.285536)\n",
      "200 dimensions:\n",
      "#   Generated 200 points\n",
      "#   Test point:  [0. 0. 0. 0. 0. 0. 0. 0. 0. 0. 0. 0. 0. 0. 0. 0. 0. 0. 0. 0. 0. 0. 0. 0.\n",
      " 0. 0. 0. 0. 0. 0. 0. 0. 0. 0. 0. 0. 0. 0. 0. 0. 0. 0. 0. 0. 0. 0. 0. 0.\n",
      " 0. 0. 0. 0. 0. 0. 0. 0. 0. 0. 0. 0. 0. 0. 0. 0. 0. 0. 0. 0. 0. 0. 0. 0.\n",
      " 0. 0. 0. 0. 0. 0. 0. 0. 0. 0. 0. 0. 0. 0. 0. 0. 0. 0. 0. 0. 0. 0. 0. 0.\n",
      " 0. 0. 0. 0. 0. 0. 0. 0. 0. 0. 0. 0. 0. 0. 0. 0. 0. 0. 0. 0. 0. 0. 0. 0.\n",
      " 0. 0. 0. 0. 0. 0. 0. 0. 0. 0. 0. 0. 0. 0. 0. 0. 0. 0. 0. 0. 0. 0. 0. 0.\n",
      " 0. 0. 0. 0. 0. 0. 0. 0. 0. 0. 0. 0. 0. 0. 0. 0. 0. 0. 0. 0. 0. 0. 0. 0.\n",
      " 0. 0. 0. 0. 0. 0. 0. 0. 0. 0. 0. 0. 0. 0. 0. 0. 0. 0. 0. 0. 0. 0. 0. 0.\n",
      " 0. 0. 0. 0. 0. 0. 0. 0.]\n",
      "#   Average distance (STD) of test point to 200 samples: 8.184732 (0.241352)\n"
     ]
    },
    {
     "data": {
      "image/png": "[encoded data removed]",
      "text/plain": [
       "<Figure size 432x288 with 1 Axes>"
      ]
     },
     "metadata": {
      "needs_background": "light"
     },
     "output_type": "display_data"
    }
   ],
   "source": [
    "import numpy as np\n",
    "from sys import argv as a\n",
    "import numpy as np\n",
    "import matplotlib.pyplot as plt\n",
    "\n",
    "# Try some on your own\n",
    "for dim in [1,2,3,4,8,10,100,200]:\n",
    "    ## choices of |X|: data (comment out one)\n",
    "    samples = 200\n",
    "    #samples = pow(2,dim)\n",
    "    X = np.random.uniform(size=(samples,dim))\n",
    "\n",
    "    ## choices of x: test point (comment out one)\n",
    "    # x = np.random.uniform(size=(dim)) # random place\n",
    "    x = np.zeros(dim) # at origin\n",
    "    print(\"%d dimensions:\" % dim)\n",
    "    print(\"#   Generated %d points\" % samples)\n",
    "    print(\"#   Test point: \", x)\n",
    "    dist_array = []\n",
    "    for j in range(len(X)):\n",
    "        dist = 0.0\n",
    "        for i in range(dim):\n",
    "    #        print (\"%f => %f \"% (x[i]-X[j][i],pow(x[i]-X[j][i],2)))\n",
    "            dist += pow(x[i]-X[j][i],2)\n",
    "    #    print (\"L1 sum distance %f => L2 distance %f\" % (dist,pow(dist,0.5)))\n",
    "        dist = pow(dist,0.5)\n",
    "        dist_array.append(dist)\n",
    "    #    print (\"%d th point %s has distance %f\" % (j,X[j],dist))\n",
    "    distances = np.array(dist_array)\n",
    "    print (\"#   Average distance (STD) of test point to %d samples: %f (%f)\" % (samples,distances.mean(),distances.std()))\n",
    "    plt.hist(distances, bins=int(samples/10), label='Dim %d' % dim)\n",
    "\n",
    "    ## plot outputs\n",
    "    ## show [1] individual histograms or [2] single composite histogram?\n",
    "#    plt.show() # [1] individual histograms\n",
    "    plt.gca().set(title='Frequency Histogram', ylabel='Frequency'); plt.legend() # [2] composite hisogram"
   ]
  },
  {
   "cell_type": "markdown",
   "id": "ba9fe861",
   "metadata": {},
   "source": [
    "We can thus observe the **Curse of Dimensionality**:\n",
    "\n",
    "As the dimensionality gets larger, distances generally grow larger, but their spread, as measured by their standard deviation, grows much more slowly. Relative distances between arbitary points become more difficult to distinguish. \n",
    "\n",
    "So algorithms such as KNN which uses distance measures like Euclidean Distance will face major issue."
   ]
  },
  {
   "cell_type": "code",
   "execution_count": null,
   "id": "564839c3",
   "metadata": {},
   "outputs": [],
   "source": []
  }
 ],
 "metadata": {
  "kernelspec": {
   "display_name": "Python 3 (ipykernel)",
   "language": "python",
   "name": "python3"
  },
  "language_info": {
   "codemirror_mode": {
    "name": "ipython",
    "version": 3
   },
   "file_extension": ".py",
   "mimetype": "text/x-python",
   "name": "python",
   "nbconvert_exporter": "python",
   "pygments_lexer": "ipython3",
   "version": "3.8.10"
  },
  "toc": {
   "base_numbering": 1,
   "nav_menu": {},
   "number_sections": true,
   "sideBar": true,
   "skip_h1_title": false,
   "title_cell": "Table of Contents",
   "title_sidebar": "Contents",
   "toc_cell": false,
   "toc_position": {},
   "toc_section_display": true,
   "toc_window_display": false
  }
 },
 "nbformat": 4,
 "nbformat_minor": 5
}
